{
 "cells": [
  {
   "cell_type": "code",
   "execution_count": 1,
   "metadata": {
    "collapsed": true
   },
   "outputs": [],
   "source": [
    "import pandas as pd"
   ]
  },
  {
   "cell_type": "code",
   "execution_count": 12,
   "outputs": [
    {
     "name": "stdout",
     "output_type": "stream",
     "text": [
      "(10201, 4)\n",
      "(9727, 4)\n"
     ]
    }
   ],
   "source": [
    "df = pd.read_csv('./cleaned-COVID Fake News Data-with-relations.csv', converters={'triples': eval, 'relations': eval})\n",
    "print(df.shape)\n",
    "\n",
    "df = df.loc[df['outcome'] == 0]\n",
    "print(df.shape)"
   ],
   "metadata": {
    "collapsed": false,
    "pycharm": {
     "name": "#%%\n"
    }
   }
  },
  {
   "cell_type": "code",
   "execution_count": 13,
   "outputs": [
    {
     "name": "stdout",
     "output_type": "stream",
     "text": [
      "is in                            2221\n",
      "is                               1768\n",
      "shows                            1292\n",
      "was                               965\n",
      "has                               910\n",
      "                                 ... \n",
      "forbade hydroxychloroquine in       1\n",
      "shows corpses at                    1\n",
      "turning health workers in           1\n",
      "for vaccine is                      1\n",
      "has issued order till               1\n",
      "Length: 6597, dtype: int64\n"
     ]
    }
   ],
   "source": [
    "relation_list = [relation for relations in df['relations'] for relation in relations]\n",
    "relation_count = pd.DataFrame(relation_list).value_counts()\n",
    "print(relation_count)"
   ],
   "metadata": {
    "collapsed": false,
    "pycharm": {
     "name": "#%%\n"
    }
   }
  },
  {
   "cell_type": "code",
   "execution_count": 14,
   "outputs": [
    {
     "name": "stdout",
     "output_type": "stream",
     "text": [
      "is in                        2221\n",
      "is                           1768\n",
      "shows                        1292\n",
      "was                           965\n",
      "has                           910\n",
      "are                           836\n",
      "will                          434\n",
      "can                           389\n",
      "have                          344\n",
      "is with                       343\n",
      "’s                            267\n",
      "showing                       264\n",
      "were                          253\n",
      "show                          251\n",
      "be                            243\n",
      "criticize                     171\n",
      "weakens system                144\n",
      "prevent                       143\n",
      "posted                        132\n",
      "looks like                    131\n",
      "issued                        131\n",
      "can cure                      131\n",
      "claims                        125\n",
      "infected with                 125\n",
      "get                           120\n",
      "published                     107\n",
      "became                        101\n",
      "died                           90\n",
      "recently became                90\n",
      "predicted                      86\n",
      "being                          84\n",
      "cures                          84\n",
      "claim                          82\n",
      "claimed                        81\n",
      "is from                        80\n",
      "prevents                       79\n",
      "kill                           78\n",
      "announced                      78\n",
      "gives                          73\n",
      "considers                      72\n",
      "been                           66\n",
      "used                           66\n",
      "were in                        65\n",
      "can kill                       64\n",
      "affected                       64\n",
      "can prevent                    62\n",
      "avoid                          61\n",
      "had                            60\n",
      "spread                         57\n",
      "would                          57\n",
      "publishes                      55\n",
      "causes                         54\n",
      "died in                        54\n",
      "make                           53\n",
      "kills                          53\n",
      "killed                         52\n",
      "contains                       52\n",
      "unveils                        52\n",
      "was created in                 51\n",
      "found                          50\n",
      "is asking for                  50\n",
      "stands for                     48\n",
      "offers                         47\n",
      "tested                         47\n",
      "asked                          47\n",
      "says                           47\n",
      "attributed to                  46\n",
      "approved                       46\n",
      "made                           45\n",
      "give                           43\n",
      "is offering                    43\n",
      "shared on                      43\n",
      "Used to                        42\n",
      "shared                         41\n",
      "Used                           40\n",
      "has constructed                40\n",
      "fight                          39\n",
      "released                       39\n",
      "called                         38\n",
      "wear                           38\n",
      "cites                          38\n",
      "is linked to                   38\n",
      "buy                            37\n",
      "has authorized                 36\n",
      "are infected with              36\n",
      "will under                     36\n",
      "gave                           36\n",
      "drop in                        36\n",
      "said                           35\n",
      "caused                         35\n",
      "got                            35\n",
      "should                         35\n",
      "visited                        34\n",
      "is going                       34\n",
      "died of                        34\n",
      "discovered                     34\n",
      "created                        33\n",
      "offering                       33\n",
      "Says                           33\n",
      "threw birthday party           32\n",
      "developed                      32\n",
      "knows                          32\n",
      "of                             32\n",
      "probably knows                 32\n",
      "create                         32\n",
      "combat                         32\n",
      "contain                        32\n",
      "infected in                    32\n",
      "be increased with              32\n",
      "in                             32\n",
      "cause                          31\n",
      "donated                        31\n",
      "found in                       30\n",
      "increases                      30\n",
      "are siging anthem as           30\n",
      "are at                         30\n",
      "is In                          30\n",
      "spent                          30\n",
      "reveals                        29\n",
      "caused by                      29\n",
      "donate                         29\n",
      "need                           29\n",
      "see                            29\n",
      "save                           29\n",
      "will make                      29\n",
      "face                           29\n",
      "destined for                   28\n",
      "been misdiagnosed              28\n",
      "proposed                       28\n",
      "were shared                    28\n",
      "want                           28\n",
      "died from                      28\n",
      "treat                          28\n",
      "registered                     28\n",
      "dies in                        28\n",
      "requested                      28\n",
      "has announced                  27\n",
      "proves                         27\n",
      "refuse                         27\n",
      "concealed                      27\n",
      "may                            27\n",
      "take                           27\n",
      "are in                         27\n",
      "representing                   27\n",
      "taking                         27\n",
      "are pretending                 26\n",
      "has completed                  26\n",
      "Is                             26\n",
      "call                           26\n",
      "benefited from                 26\n",
      "is claimed                     26\n",
      "goes                           26\n",
      "re                             25\n",
      "stop                           25\n",
      "started                        25\n",
      "are carrying out               24\n",
      "infected                       24\n",
      "receive                        24\n",
      "using                          24\n",
      "indicated                      24\n",
      "provides funds to              24\n",
      "compromised                    24\n",
      "enter terroritory              24\n",
      "illicitly benefited from       24\n",
      "enter terroritory anymore      24\n",
      "swimming due                   24\n",
      "protest against                24\n",
      "can cause                      24\n",
      "died after                     24\n",
      "has sent                       24\n",
      "buy groceries for              24\n",
      "suggest                        24\n",
      "real source of is              24\n",
      "shoot                          24\n",
      "will include                   24\n",
      "source of is                   24\n",
      "do                             24\n",
      "identified as                  24\n",
      "jumping                        24\n",
      "reduce                         24\n",
      "dies as                        24\n",
      "are receiving                  24\n",
      "be cured without               24\n",
      "can turn humans into           24\n",
      "secretly requested             24\n",
      "claiming                       23\n",
      "reports                        23\n",
      "control                        23\n",
      "can get                        23\n",
      "was infected with              23\n",
      "collect                        23\n",
      "was caused by                  23\n",
      "circulating on                 23\n",
      "turn                           23\n",
      "took                           23\n",
      "are lower than                 22\n",
      "announces                      22\n",
      "was in                         22\n",
      "is cure for                    22\n",
      "video of was                   22\n",
      "dtype: int64\n"
     ]
    }
   ],
   "source": [
    "top_n = relation_count[:200]\n",
    "pd.set_option('display.max_rows', None)\n",
    "print(top_n)\n",
    "pd.reset_option('display.max_rows')\n"
   ],
   "metadata": {
    "collapsed": false,
    "pycharm": {
     "name": "#%%\n"
    }
   }
  },
  {
   "cell_type": "code",
   "execution_count": 15,
   "outputs": [
    {
     "data": {
      "text/plain": "                                               headlines  outcome  \\\n1      A photo claims that this person is a doctor wh...        0   \n2      Post about a video claims that it is a protest...        0   \n5      Households with COVID-19 patients in Porto Ale...        0   \n20     Axel Kicillof (Governor of the Province of Bue...        0   \n25     Supposed tweet form Berlin Police claims there...        0   \n...                                                  ...      ...   \n10174  Confirmed cases of the novel coronavirus or 20...        0   \n10179  The first case of new coronavirus in Venezuela...        0   \n10198  Stores and supermarkets in Veracruz (Mexico) w...        0   \n10199  A chain message circulated on Tuesday, Jan. 14...        0   \n10200  Photo shows Muslims in Tamil Nadu state of Ind...        0   \n\n                                                 triples  \\\n1      [[{'subject': 'many COVID 19 patinents', 'rela...   \n2      [[{'subject': 'confination', 'relation': 'is i...   \n5      [[{'subject': 'Households', 'relation': 'is wi...   \n20     [[{'subject': 'strict quarantine', 'relation':...   \n25     [[{'subject': 'tweet form Berlin Police claims...   \n...                                                  ...   \n10174  [[{'subject': 'cases', 'relation': 'were recor...   \n10179  [[{'subject': 'new coronavirus', 'relation': '...   \n10198  [[{'subject': 'Stores', 'relation': 'is in', '...   \n10199  [[{'subject': 'chain message', 'relation': 'ci...   \n10200  [[{'subject': 'Photo', 'relation': 'shows', 'o...   \n\n                                               relations  \n1                                                [is in]  \n2                                                [is in]  \n5      [is with, is in, is in, handle Households in, ...  \n20                  [is in, of Governor is, Governor of]  \n25     [was, was, was, was, was, was, was, is in, was...  \n...                                                  ...  \n10174  [were recorded at, were recorded at, were reco...  \n10179  [is in, has, has, comes from, is in, comes fro...  \n10198                 [is in, has asked, has asked, buy]  \n10199                        [circulated at_time, is in]  \n10200  [shows, shows, shows, shows, shows, offer, is ...  \n\n[1889 rows x 4 columns]",
      "text/html": "<div>\n<style scoped>\n    .dataframe tbody tr th:only-of-type {\n        vertical-align: middle;\n    }\n\n    .dataframe tbody tr th {\n        vertical-align: top;\n    }\n\n    .dataframe thead th {\n        text-align: right;\n    }\n</style>\n<table border=\"1\" class=\"dataframe\">\n  <thead>\n    <tr style=\"text-align: right;\">\n      <th></th>\n      <th>headlines</th>\n      <th>outcome</th>\n      <th>triples</th>\n      <th>relations</th>\n    </tr>\n  </thead>\n  <tbody>\n    <tr>\n      <th>1</th>\n      <td>A photo claims that this person is a doctor wh...</td>\n      <td>0</td>\n      <td>[[{'subject': 'many COVID 19 patinents', 'rela...</td>\n      <td>[is in]</td>\n    </tr>\n    <tr>\n      <th>2</th>\n      <td>Post about a video claims that it is a protest...</td>\n      <td>0</td>\n      <td>[[{'subject': 'confination', 'relation': 'is i...</td>\n      <td>[is in]</td>\n    </tr>\n    <tr>\n      <th>5</th>\n      <td>Households with COVID-19 patients in Porto Ale...</td>\n      <td>0</td>\n      <td>[[{'subject': 'Households', 'relation': 'is wi...</td>\n      <td>[is with, is in, is in, handle Households in, ...</td>\n    </tr>\n    <tr>\n      <th>20</th>\n      <td>Axel Kicillof (Governor of the Province of Bue...</td>\n      <td>0</td>\n      <td>[[{'subject': 'strict quarantine', 'relation':...</td>\n      <td>[is in, of Governor is, Governor of]</td>\n    </tr>\n    <tr>\n      <th>25</th>\n      <td>Supposed tweet form Berlin Police claims there...</td>\n      <td>0</td>\n      <td>[[{'subject': 'tweet form Berlin Police claims...</td>\n      <td>[was, was, was, was, was, was, was, is in, was...</td>\n    </tr>\n    <tr>\n      <th>...</th>\n      <td>...</td>\n      <td>...</td>\n      <td>...</td>\n      <td>...</td>\n    </tr>\n    <tr>\n      <th>10174</th>\n      <td>Confirmed cases of the novel coronavirus or 20...</td>\n      <td>0</td>\n      <td>[[{'subject': 'cases', 'relation': 'were recor...</td>\n      <td>[were recorded at, were recorded at, were reco...</td>\n    </tr>\n    <tr>\n      <th>10179</th>\n      <td>The first case of new coronavirus in Venezuela...</td>\n      <td>0</td>\n      <td>[[{'subject': 'new coronavirus', 'relation': '...</td>\n      <td>[is in, has, has, comes from, is in, comes fro...</td>\n    </tr>\n    <tr>\n      <th>10198</th>\n      <td>Stores and supermarkets in Veracruz (Mexico) w...</td>\n      <td>0</td>\n      <td>[[{'subject': 'Stores', 'relation': 'is in', '...</td>\n      <td>[is in, has asked, has asked, buy]</td>\n    </tr>\n    <tr>\n      <th>10199</th>\n      <td>A chain message circulated on Tuesday, Jan. 14...</td>\n      <td>0</td>\n      <td>[[{'subject': 'chain message', 'relation': 'ci...</td>\n      <td>[circulated at_time, is in]</td>\n    </tr>\n    <tr>\n      <th>10200</th>\n      <td>Photo shows Muslims in Tamil Nadu state of Ind...</td>\n      <td>0</td>\n      <td>[[{'subject': 'Photo', 'relation': 'shows', 'o...</td>\n      <td>[shows, shows, shows, shows, shows, offer, is ...</td>\n    </tr>\n  </tbody>\n</table>\n<p>1889 rows × 4 columns</p>\n</div>"
     },
     "metadata": {},
     "output_type": "display_data"
    }
   ],
   "source": [
    "df_is_in = df[df.relations.map(lambda x: 'is in' in x)]\n",
    "display(df_is_in)"
   ],
   "metadata": {
    "collapsed": false,
    "pycharm": {
     "name": "#%%\n"
    }
   }
  },
  {
   "cell_type": "code",
   "execution_count": 18,
   "outputs": [
    {
     "name": "stderr",
     "output_type": "stream",
     "text": [
      "<ipython-input-18-e213edeffa2f>:14: SettingWithCopyWarning: \n",
      "A value is trying to be set on a copy of a slice from a DataFrame.\n",
      "Try using .loc[row_indexer,col_indexer] = value instead\n",
      "\n",
      "See the caveats in the documentation: https://pandas.pydata.org/pandas-docs/stable/user_guide/indexing.html#returning-a-view-versus-a-copy\n",
      "  df_is_in['is_in_triples'] = is_in_triples\n",
      "<ipython-input-18-e213edeffa2f>:15: SettingWithCopyWarning: \n",
      "A value is trying to be set on a copy of a slice from a DataFrame.\n",
      "Try using .loc[row_indexer,col_indexer] = value instead\n",
      "\n",
      "See the caveats in the documentation: https://pandas.pydata.org/pandas-docs/stable/user_guide/indexing.html#returning-a-view-versus-a-copy\n",
      "  df_is_in['is_in_entities'] = is_in_entities\n"
     ]
    },
    {
     "data": {
      "text/plain": "                                               headlines  outcome  \\\n1      A photo claims that this person is a doctor wh...        0   \n2      Post about a video claims that it is a protest...        0   \n5      Households with COVID-19 patients in Porto Ale...        0   \n20     Axel Kicillof (Governor of the Province of Bue...        0   \n25     Supposed tweet form Berlin Police claims there...        0   \n...                                                  ...      ...   \n10174  Confirmed cases of the novel coronavirus or 20...        0   \n10179  The first case of new coronavirus in Venezuela...        0   \n10198  Stores and supermarkets in Veracruz (Mexico) w...        0   \n10199  A chain message circulated on Tuesday, Jan. 14...        0   \n10200  Photo shows Muslims in Tamil Nadu state of Ind...        0   \n\n                                                 triples  \\\n1      [[{'subject': 'many COVID 19 patinents', 'rela...   \n2      [[{'subject': 'confination', 'relation': 'is i...   \n5      [[{'subject': 'Households', 'relation': 'is wi...   \n20     [[{'subject': 'strict quarantine', 'relation':...   \n25     [[{'subject': 'tweet form Berlin Police claims...   \n...                                                  ...   \n10174  [[{'subject': 'cases', 'relation': 'were recor...   \n10179  [[{'subject': 'new coronavirus', 'relation': '...   \n10198  [[{'subject': 'Stores', 'relation': 'is in', '...   \n10199  [[{'subject': 'chain message', 'relation': 'ci...   \n10200  [[{'subject': 'Photo', 'relation': 'shows', 'o...   \n\n                                               relations  \\\n1                                                [is in]   \n2                                                [is in]   \n5      [is with, is in, is in, handle Households in, ...   \n20                  [is in, of Governor is, Governor of]   \n25     [was, was, was, was, was, was, was, is in, was...   \n...                                                  ...   \n10174  [were recorded at, were recorded at, were reco...   \n10179  [is in, has, has, comes from, is in, comes fro...   \n10198                 [is in, has asked, has asked, buy]   \n10199                        [circulated at_time, is in]   \n10200  [shows, shows, shows, shows, shows, offer, is ...   \n\n                                           is_in_triples  \\\n1      [{'subject': 'many COVID 19 patinents', 'relat...   \n2      [{'subject': 'confination', 'relation': 'is in...   \n5      [{'subject': 'COVID 19 patients', 'relation': ...   \n20     [{'subject': 'strict quarantine', 'relation': ...   \n25     [{'subject': 'August 1st rally', 'relation': '...   \n...                                                  ...   \n10174  [{'subject': 'Tower', 'relation': 'is in', 'ob...   \n10179  [{'subject': 'new coronavirus', 'relation': 'i...   \n10198  [{'subject': 'Stores', 'relation': 'is in', 'o...   \n10199  [{'subject': 'mall', 'relation': 'is in', 'obj...   \n10200  [{'subject': 'Muslims', 'relation': 'is in', '...   \n\n                                          is_in_entities  \n1      [many COVID 19 patinents, http://dbpedia.org/r...  \n2                 [confination, town of Aranda de Duero]  \n5      [COVID 19 patients, http://dbpedia.org/resourc...  \n20     [strict quarantine, http://dbpedia.org/resourc...  \n25     [August 1st rally, http://dbpedia.org/resource...  \n...                                                  ...  \n10174        [Tower, http://dbpedia.org/resource/Makati]  \n10179  [new coronavirus, http://dbpedia.org/resource/...  \n10198     [Stores, http://dbpedia.org/resource/Veracruz]  \n10199    [mall, http://dbpedia.org/resource/Mandaluyong]  \n10200               [Muslims, Tamil Nadu state of India]  \n\n[1889 rows x 6 columns]",
      "text/html": "<div>\n<style scoped>\n    .dataframe tbody tr th:only-of-type {\n        vertical-align: middle;\n    }\n\n    .dataframe tbody tr th {\n        vertical-align: top;\n    }\n\n    .dataframe thead th {\n        text-align: right;\n    }\n</style>\n<table border=\"1\" class=\"dataframe\">\n  <thead>\n    <tr style=\"text-align: right;\">\n      <th></th>\n      <th>headlines</th>\n      <th>outcome</th>\n      <th>triples</th>\n      <th>relations</th>\n      <th>is_in_triples</th>\n      <th>is_in_entities</th>\n    </tr>\n  </thead>\n  <tbody>\n    <tr>\n      <th>1</th>\n      <td>A photo claims that this person is a doctor wh...</td>\n      <td>0</td>\n      <td>[[{'subject': 'many COVID 19 patinents', 'rela...</td>\n      <td>[is in]</td>\n      <td>[{'subject': 'many COVID 19 patinents', 'relat...</td>\n      <td>[many COVID 19 patinents, http://dbpedia.org/r...</td>\n    </tr>\n    <tr>\n      <th>2</th>\n      <td>Post about a video claims that it is a protest...</td>\n      <td>0</td>\n      <td>[[{'subject': 'confination', 'relation': 'is i...</td>\n      <td>[is in]</td>\n      <td>[{'subject': 'confination', 'relation': 'is in...</td>\n      <td>[confination, town of Aranda de Duero]</td>\n    </tr>\n    <tr>\n      <th>5</th>\n      <td>Households with COVID-19 patients in Porto Ale...</td>\n      <td>0</td>\n      <td>[[{'subject': 'Households', 'relation': 'is wi...</td>\n      <td>[is with, is in, is in, handle Households in, ...</td>\n      <td>[{'subject': 'COVID 19 patients', 'relation': ...</td>\n      <td>[COVID 19 patients, http://dbpedia.org/resourc...</td>\n    </tr>\n    <tr>\n      <th>20</th>\n      <td>Axel Kicillof (Governor of the Province of Bue...</td>\n      <td>0</td>\n      <td>[[{'subject': 'strict quarantine', 'relation':...</td>\n      <td>[is in, of Governor is, Governor of]</td>\n      <td>[{'subject': 'strict quarantine', 'relation': ...</td>\n      <td>[strict quarantine, http://dbpedia.org/resourc...</td>\n    </tr>\n    <tr>\n      <th>25</th>\n      <td>Supposed tweet form Berlin Police claims there...</td>\n      <td>0</td>\n      <td>[[{'subject': 'tweet form Berlin Police claims...</td>\n      <td>[was, was, was, was, was, was, was, is in, was...</td>\n      <td>[{'subject': 'August 1st rally', 'relation': '...</td>\n      <td>[August 1st rally, http://dbpedia.org/resource...</td>\n    </tr>\n    <tr>\n      <th>...</th>\n      <td>...</td>\n      <td>...</td>\n      <td>...</td>\n      <td>...</td>\n      <td>...</td>\n      <td>...</td>\n    </tr>\n    <tr>\n      <th>10174</th>\n      <td>Confirmed cases of the novel coronavirus or 20...</td>\n      <td>0</td>\n      <td>[[{'subject': 'cases', 'relation': 'were recor...</td>\n      <td>[were recorded at, were recorded at, were reco...</td>\n      <td>[{'subject': 'Tower', 'relation': 'is in', 'ob...</td>\n      <td>[Tower, http://dbpedia.org/resource/Makati]</td>\n    </tr>\n    <tr>\n      <th>10179</th>\n      <td>The first case of new coronavirus in Venezuela...</td>\n      <td>0</td>\n      <td>[[{'subject': 'new coronavirus', 'relation': '...</td>\n      <td>[is in, has, has, comes from, is in, comes fro...</td>\n      <td>[{'subject': 'new coronavirus', 'relation': 'i...</td>\n      <td>[new coronavirus, http://dbpedia.org/resource/...</td>\n    </tr>\n    <tr>\n      <th>10198</th>\n      <td>Stores and supermarkets in Veracruz (Mexico) w...</td>\n      <td>0</td>\n      <td>[[{'subject': 'Stores', 'relation': 'is in', '...</td>\n      <td>[is in, has asked, has asked, buy]</td>\n      <td>[{'subject': 'Stores', 'relation': 'is in', 'o...</td>\n      <td>[Stores, http://dbpedia.org/resource/Veracruz]</td>\n    </tr>\n    <tr>\n      <th>10199</th>\n      <td>A chain message circulated on Tuesday, Jan. 14...</td>\n      <td>0</td>\n      <td>[[{'subject': 'chain message', 'relation': 'ci...</td>\n      <td>[circulated at_time, is in]</td>\n      <td>[{'subject': 'mall', 'relation': 'is in', 'obj...</td>\n      <td>[mall, http://dbpedia.org/resource/Mandaluyong]</td>\n    </tr>\n    <tr>\n      <th>10200</th>\n      <td>Photo shows Muslims in Tamil Nadu state of Ind...</td>\n      <td>0</td>\n      <td>[[{'subject': 'Photo', 'relation': 'shows', 'o...</td>\n      <td>[shows, shows, shows, shows, shows, offer, is ...</td>\n      <td>[{'subject': 'Muslims', 'relation': 'is in', '...</td>\n      <td>[Muslims, Tamil Nadu state of India]</td>\n    </tr>\n  </tbody>\n</table>\n<p>1889 rows × 6 columns</p>\n</div>"
     },
     "metadata": {},
     "output_type": "display_data"
    }
   ],
   "source": [
    "is_in_triples = []\n",
    "is_in_entities = []\n",
    "for triples in df_is_in['triples']:\n",
    "    is_in_row = []\n",
    "    is_in_entities_row = []\n",
    "    for sent in triples:\n",
    "        for triple in sent:\n",
    "            if triple['relation'] == 'is in':\n",
    "                is_in_row.append(triple)\n",
    "                is_in_entities_row.append(triple['subject'])\n",
    "                is_in_entities_row.append(triple['object'])\n",
    "    is_in_triples.append(is_in_row)\n",
    "    is_in_entities.append(is_in_entities_row)\n",
    "df_is_in['is_in_triples'] = is_in_triples\n",
    "df_is_in['is_in_entities'] = is_in_entities\n",
    "display(df_is_in)"
   ],
   "metadata": {
    "collapsed": false,
    "pycharm": {
     "name": "#%%\n"
    }
   }
  },
  {
   "cell_type": "code",
   "execution_count": 19,
   "outputs": [],
   "source": [
    "df_is_in.to_csv('is-in-spos.csv', index=False)"
   ],
   "metadata": {
    "collapsed": false,
    "pycharm": {
     "name": "#%%\n"
    }
   }
  },
  {
   "cell_type": "code",
   "execution_count": 22,
   "outputs": [
    {
     "data": {
      "text/plain": "{'http://dbpedia.org/resource/2009_flu_pandemic',\n 'http://dbpedia.org/resource/2020_coronavirus_outbreak_in_Italy',\n 'http://dbpedia.org/resource/48_Hours_(TV_program)',\n 'http://dbpedia.org/resource/72_Hours_(TV_series)',\n 'http://dbpedia.org/resource/A.S.D._Cecina',\n 'http://dbpedia.org/resource/Aata',\n 'http://dbpedia.org/resource/Africa',\n 'http://dbpedia.org/resource/Aguascalientes',\n 'http://dbpedia.org/resource/Ahmedabad',\n 'http://dbpedia.org/resource/Ajmer',\n 'http://dbpedia.org/resource/Alabang',\n 'http://dbpedia.org/resource/Alappuzha',\n 'http://dbpedia.org/resource/Albanians_in_North_Macedonia',\n 'http://dbpedia.org/resource/Alberta',\n 'http://dbpedia.org/resource/Alcalá_de_Henares',\n 'http://dbpedia.org/resource/Algeria',\n 'http://dbpedia.org/resource/Almaty',\n 'http://dbpedia.org/resource/Almería',\n 'http://dbpedia.org/resource/Alternating_current',\n 'http://dbpedia.org/resource/Ambato,_Ecuador',\n 'http://dbpedia.org/resource/Amusement_park',\n 'http://dbpedia.org/resource/Andhra_Pradesh',\n 'http://dbpedia.org/resource/Andorra',\n 'http://dbpedia.org/resource/Animal_fat',\n 'http://dbpedia.org/resource/Antioquia_Department',\n 'http://dbpedia.org/resource/Araçatuba',\n 'http://dbpedia.org/resource/Arezzo',\n 'http://dbpedia.org/resource/Argentina',\n 'http://dbpedia.org/resource/Arrestment',\n 'http://dbpedia.org/resource/Assam',\n 'http://dbpedia.org/resource/Aubervilliers',\n 'http://dbpedia.org/resource/Australia',\n 'http://dbpedia.org/resource/Autopsy',\n 'http://dbpedia.org/resource/Avian_influenza',\n 'http://dbpedia.org/resource/Bahia',\n 'http://dbpedia.org/resource/Bakersfield,_California',\n 'http://dbpedia.org/resource/Bambara_language',\n 'http://dbpedia.org/resource/Banco_Santander',\n 'http://dbpedia.org/resource/Bandra',\n 'http://dbpedia.org/resource/Bangalore',\n 'http://dbpedia.org/resource/Banlic,_Cabuyao',\n 'http://dbpedia.org/resource/Barcelona',\n 'http://dbpedia.org/resource/Barhalganj',\n 'http://dbpedia.org/resource/Bari',\n 'http://dbpedia.org/resource/Barmer,_Rajasthan',\n 'http://dbpedia.org/resource/Barmer_district',\n 'http://dbpedia.org/resource/Barranquilla',\n 'http://dbpedia.org/resource/Belgaum',\n 'http://dbpedia.org/resource/Belgium',\n 'http://dbpedia.org/resource/Belgrade',\n 'http://dbpedia.org/resource/Bergamo',\n 'http://dbpedia.org/resource/Berlin',\n 'http://dbpedia.org/resource/Berlin_Police',\n 'http://dbpedia.org/resource/Bhopal',\n 'http://dbpedia.org/resource/Bihar',\n 'http://dbpedia.org/resource/Bill_Gates',\n 'http://dbpedia.org/resource/Bitola',\n 'http://dbpedia.org/resource/Bleach',\n 'http://dbpedia.org/resource/Bloemfontein',\n 'http://dbpedia.org/resource/Body_Bags_(film)',\n 'http://dbpedia.org/resource/Bogotá',\n 'http://dbpedia.org/resource/Bolivia',\n 'http://dbpedia.org/resource/Bombay_High_Court',\n 'http://dbpedia.org/resource/Bonny_Serrano_Avenue',\n 'http://dbpedia.org/resource/Bovalino',\n 'http://dbpedia.org/resource/Brazil',\n 'http://dbpedia.org/resource/Brighton',\n 'http://dbpedia.org/resource/Brothel',\n 'http://dbpedia.org/resource/Brussels',\n 'http://dbpedia.org/resource/Buenos_Aires',\n 'http://dbpedia.org/resource/Bus_driver',\n 'http://dbpedia.org/resource/Calella',\n 'http://dbpedia.org/resource/Cali',\n 'http://dbpedia.org/resource/California',\n 'http://dbpedia.org/resource/Campeonato_Paulista',\n 'http://dbpedia.org/resource/Canada',\n 'http://dbpedia.org/resource/Canary_Islands',\n 'http://dbpedia.org/resource/Cannibalism',\n 'http://dbpedia.org/resource/Carbon_dioxide',\n 'http://dbpedia.org/resource/Caserta',\n 'http://dbpedia.org/resource/Catania',\n 'http://dbpedia.org/resource/Catholic_Church',\n 'http://dbpedia.org/resource/Chandigarh',\n 'http://dbpedia.org/resource/Charitable_hospital',\n 'http://dbpedia.org/resource/Chin_State',\n 'http://dbpedia.org/resource/China',\n 'http://dbpedia.org/resource/Chinatown',\n 'http://dbpedia.org/resource/Chinese_people',\n 'http://dbpedia.org/resource/Chloroquine',\n 'http://dbpedia.org/resource/Christian_Historical_Union',\n 'http://dbpedia.org/resource/Church_architecture',\n 'http://dbpedia.org/resource/City',\n 'http://dbpedia.org/resource/Ciudad_Real',\n 'http://dbpedia.org/resource/Civil_Services_Examination_(India)',\n 'http://dbpedia.org/resource/Coffee',\n 'http://dbpedia.org/resource/Colombia',\n 'http://dbpedia.org/resource/Colombo',\n 'http://dbpedia.org/resource/Community_health_center',\n 'http://dbpedia.org/resource/Contagem',\n 'http://dbpedia.org/resource/Coronavirus',\n 'http://dbpedia.org/resource/Corralito',\n 'http://dbpedia.org/resource/Costa_Rica',\n 'http://dbpedia.org/resource/Cow_dung',\n 'http://dbpedia.org/resource/Curfew',\n 'http://dbpedia.org/resource/Damascus',\n 'http://dbpedia.org/resource/Davos',\n 'http://dbpedia.org/resource/Debar',\n 'http://dbpedia.org/resource/Deer',\n 'http://dbpedia.org/resource/Delhi',\n 'http://dbpedia.org/resource/Denmark',\n 'http://dbpedia.org/resource/Des_Moines_River',\n 'http://dbpedia.org/resource/Developing_country',\n 'http://dbpedia.org/resource/Dilsukhnagar',\n 'http://dbpedia.org/resource/Diyarbekir_Vilayet',\n 'http://dbpedia.org/resource/Dog',\n 'http://dbpedia.org/resource/Dubai',\n 'http://dbpedia.org/resource/Dublin',\n 'http://dbpedia.org/resource/Ebola_virus_disease',\n 'http://dbpedia.org/resource/Ecuador',\n 'http://dbpedia.org/resource/Egypt',\n 'http://dbpedia.org/resource/Egyptians',\n 'http://dbpedia.org/resource/Eid_prayers',\n 'http://dbpedia.org/resource/El_País',\n 'http://dbpedia.org/resource/England',\n 'http://dbpedia.org/resource/English_language',\n 'http://dbpedia.org/resource/Ethiopia',\n 'http://dbpedia.org/resource/Europe',\n 'http://dbpedia.org/resource/European_Parliament',\n 'http://dbpedia.org/resource/European_Union',\n 'http://dbpedia.org/resource/Excise',\n 'http://dbpedia.org/resource/Facebook',\n 'http://dbpedia.org/resource/Finland',\n 'http://dbpedia.org/resource/Fish_market',\n 'http://dbpedia.org/resource/Flag_of_Japan',\n 'http://dbpedia.org/resource/Flanders',\n 'http://dbpedia.org/resource/Flash_mob',\n 'http://dbpedia.org/resource/Florida',\n 'http://dbpedia.org/resource/Flu_season',\n 'http://dbpedia.org/resource/Fortaleza',\n 'http://dbpedia.org/resource/France',\n 'http://dbpedia.org/resource/Georgia_(U.S._state)',\n 'http://dbpedia.org/resource/Germany',\n 'http://dbpedia.org/resource/Ghana',\n 'http://dbpedia.org/resource/Ghana_Education_Service',\n 'http://dbpedia.org/resource/Gold_Coast_Hospital',\n 'http://dbpedia.org/resource/Gorakhpur_district',\n 'http://dbpedia.org/resource/Granada',\n 'http://dbpedia.org/resource/Greek_language',\n 'http://dbpedia.org/resource/Gross_domestic_product',\n 'http://dbpedia.org/resource/Guangzhou',\n 'http://dbpedia.org/resource/Guatemala',\n 'http://dbpedia.org/resource/Guayaquil',\n 'http://dbpedia.org/resource/Gujarat',\n 'http://dbpedia.org/resource/Gujarat_Police',\n 'http://dbpedia.org/resource/Hazmat_suit',\n 'http://dbpedia.org/resource/Heat_wave',\n 'http://dbpedia.org/resource/Heilongjiang',\n 'http://dbpedia.org/resource/Hemoglobin',\n 'http://dbpedia.org/resource/Hong_Kong',\n 'http://dbpedia.org/resource/Hospital_Muñiz',\n 'http://dbpedia.org/resource/Hotel',\n 'http://dbpedia.org/resource/Howrah',\n 'http://dbpedia.org/resource/Hubei',\n 'http://dbpedia.org/resource/Huelva',\n 'http://dbpedia.org/resource/Huoshenshan_Hospital',\n 'http://dbpedia.org/resource/Hyderabad',\n 'http://dbpedia.org/resource/Hydroxychloroquine',\n 'http://dbpedia.org/resource/Ice_rink',\n 'http://dbpedia.org/resource/Impact_Wrestling_Lockdown',\n 'http://dbpedia.org/resource/India',\n 'http://dbpedia.org/resource/Indian_Army',\n 'http://dbpedia.org/resource/Indonesia',\n 'http://dbpedia.org/resource/Indore',\n 'http://dbpedia.org/resource/Influenza_vaccine',\n 'http://dbpedia.org/resource/Integrated_circuit',\n 'http://dbpedia.org/resource/Intensive_care_unit',\n 'http://dbpedia.org/resource/Interstate_696',\n 'http://dbpedia.org/resource/Iran',\n 'http://dbpedia.org/resource/Iraq',\n 'http://dbpedia.org/resource/Ireland',\n 'http://dbpedia.org/resource/Israel',\n 'http://dbpedia.org/resource/Italians',\n 'http://dbpedia.org/resource/Italy',\n 'http://dbpedia.org/resource/Itaperuna',\n 'http://dbpedia.org/resource/Jaipur',\n 'http://dbpedia.org/resource/Japan',\n 'http://dbpedia.org/resource/Jeddah',\n 'http://dbpedia.org/resource/Jhalawar',\n 'http://dbpedia.org/resource/John_Lewis_Partnership',\n 'http://dbpedia.org/resource/Jordan',\n 'http://dbpedia.org/resource/Juba',\n 'http://dbpedia.org/resource/Kaaba',\n 'http://dbpedia.org/resource/Kano',\n 'http://dbpedia.org/resource/Kanpur',\n 'http://dbpedia.org/resource/Karachi',\n 'http://dbpedia.org/resource/Karnataka',\n 'http://dbpedia.org/resource/Kazakhstan',\n 'http://dbpedia.org/resource/Kaziranga_National_Park',\n 'http://dbpedia.org/resource/Kenya',\n 'http://dbpedia.org/resource/Kenyatta_National_Hospital',\n 'http://dbpedia.org/resource/Kerala',\n 'http://dbpedia.org/resource/Kingdom_of_Galicia',\n 'http://dbpedia.org/resource/Kingdom_of_Galicia_and_Lodomeria',\n 'http://dbpedia.org/resource/Kolkata',\n 'http://dbpedia.org/resource/La_Matanza_Partido',\n 'http://dbpedia.org/resource/Lake_Khanka',\n 'http://dbpedia.org/resource/Lampedusa',\n 'http://dbpedia.org/resource/Latacunga',\n 'http://dbpedia.org/resource/Latin',\n 'http://dbpedia.org/resource/Latin_America',\n 'http://dbpedia.org/resource/Latvia',\n 'http://dbpedia.org/resource/Lesotho',\n 'http://dbpedia.org/resource/Libreville',\n 'http://dbpedia.org/resource/Lithuania',\n 'http://dbpedia.org/resource/Lithuanian_language',\n 'http://dbpedia.org/resource/Lockdown',\n 'http://dbpedia.org/resource/Lombardy',\n 'http://dbpedia.org/resource/London',\n 'http://dbpedia.org/resource/Los_Angeles',\n 'http://dbpedia.org/resource/Louisiana',\n 'http://dbpedia.org/resource/Lugano',\n 'http://dbpedia.org/resource/Lugo',\n 'http://dbpedia.org/resource/Lung',\n 'http://dbpedia.org/resource/Lungi_Dance',\n 'http://dbpedia.org/resource/Lutsk',\n 'http://dbpedia.org/resource/MTV_Video_Music_Award',\n 'http://dbpedia.org/resource/Machala',\n 'http://dbpedia.org/resource/Madhya_Pradesh',\n 'http://dbpedia.org/resource/Madrid',\n 'http://dbpedia.org/resource/Maharashtra',\n 'http://dbpedia.org/resource/Makati',\n 'http://dbpedia.org/resource/Malaysia',\n 'http://dbpedia.org/resource/Malegaon',\n 'http://dbpedia.org/resource/Manchester',\n 'http://dbpedia.org/resource/Mandaluyong',\n 'http://dbpedia.org/resource/Manipur',\n 'http://dbpedia.org/resource/Marabá,_Pará',\n 'http://dbpedia.org/resource/Maracaibo',\n 'http://dbpedia.org/resource/Maracay',\n 'http://dbpedia.org/resource/Marina',\n 'http://dbpedia.org/resource/Marrakesh',\n 'http://dbpedia.org/resource/Mayor',\n 'http://dbpedia.org/resource/Medical_test',\n 'http://dbpedia.org/resource/Medicine',\n 'http://dbpedia.org/resource/Mehdipatnam',\n 'http://dbpedia.org/resource/Mexico',\n 'http://dbpedia.org/resource/Mexico_City',\n 'http://dbpedia.org/resource/Michigan',\n 'http://dbpedia.org/resource/Middle_East',\n 'http://dbpedia.org/resource/Middle_East_respiratory_syndrome',\n 'http://dbpedia.org/resource/Minas_Gerais',\n 'http://dbpedia.org/resource/Mombasa',\n 'http://dbpedia.org/resource/Moment_of_Danger',\n 'http://dbpedia.org/resource/Morgue',\n 'http://dbpedia.org/resource/Mortality_rate',\n 'http://dbpedia.org/resource/Mosque',\n 'http://dbpedia.org/resource/Mulhouse',\n 'http://dbpedia.org/resource/Mumbai',\n 'http://dbpedia.org/resource/Munich',\n 'http://dbpedia.org/resource/Municipality',\n 'http://dbpedia.org/resource/Murcia',\n 'http://dbpedia.org/resource/Murga_punishment',\n 'http://dbpedia.org/resource/Mutation',\n 'http://dbpedia.org/resource/Myanmar',\n 'http://dbpedia.org/resource/Nagaon',\n 'http://dbpedia.org/resource/Nagpur',\n 'http://dbpedia.org/resource/National_Taiwan_University_Hospital',\n 'http://dbpedia.org/resource/Navarre',\n 'http://dbpedia.org/resource/Netherlands',\n 'http://dbpedia.org/resource/New_Delhi',\n 'http://dbpedia.org/resource/New_South_Wales',\n 'http://dbpedia.org/resource/New_York_City',\n 'http://dbpedia.org/resource/New_York_City_Subway',\n 'http://dbpedia.org/resource/New_Zealand',\n 'http://dbpedia.org/resource/New_Zealand_national_cricket_team',\n 'http://dbpedia.org/resource/Nigeria',\n 'http://dbpedia.org/resource/Niterói',\n 'http://dbpedia.org/resource/Nobel_Prize_in_Physiology_or_Medicine',\n 'http://dbpedia.org/resource/North_Carolina',\n 'http://dbpedia.org/resource/North_Macedonia',\n 'http://dbpedia.org/resource/North_Region,_Brazil',\n 'http://dbpedia.org/resource/Northern_Ireland',\n 'http://dbpedia.org/resource/Novi_Ligure',\n 'http://dbpedia.org/resource/Nuevo_León',\n 'http://dbpedia.org/resource/Odessa',\n 'http://dbpedia.org/resource/Oklahoma',\n 'http://dbpedia.org/resource/Omdurman',\n 'http://dbpedia.org/resource/Onion',\n 'http://dbpedia.org/resource/Orangutan',\n 'http://dbpedia.org/resource/Oregon',\n 'http://dbpedia.org/resource/Orthohantavirus',\n 'http://dbpedia.org/resource/Oscillococcinum',\n 'http://dbpedia.org/resource/Pakistan',\n 'http://dbpedia.org/resource/Palghar_district',\n 'http://dbpedia.org/resource/Pandemic',\n 'http://dbpedia.org/resource/Panic_buying',\n 'http://dbpedia.org/resource/Pantin',\n 'http://dbpedia.org/resource/Paris',\n 'http://dbpedia.org/resource/Pasta',\n 'http://dbpedia.org/resource/Pasteur_Institute',\n 'http://dbpedia.org/resource/Patna',\n 'http://dbpedia.org/resource/Pennsylvania',\n 'http://dbpedia.org/resource/Peru',\n 'http://dbpedia.org/resource/Philippines',\n 'http://dbpedia.org/resource/Pirbright_Institute',\n 'http://dbpedia.org/resource/Pneumonia',\n 'http://dbpedia.org/resource/Poland',\n 'http://dbpedia.org/resource/Polio_vaccine',\n 'http://dbpedia.org/resource/Pondicherry_University',\n 'http://dbpedia.org/resource/Port_of_Brownsville',\n 'http://dbpedia.org/resource/Porto_Alegre',\n 'http://dbpedia.org/resource/Portugal',\n 'http://dbpedia.org/resource/Poultry',\n 'http://dbpedia.org/resource/Presidency_of_Donald_Trump',\n \"http://dbpedia.org/resource/President_of_the_People's_Republic_of_China\",\n 'http://dbpedia.org/resource/President_of_the_United_States',\n 'http://dbpedia.org/resource/Psycholinguistics',\n 'http://dbpedia.org/resource/Public_transport',\n 'http://dbpedia.org/resource/Puebla',\n 'http://dbpedia.org/resource/Pune',\n 'http://dbpedia.org/resource/Punkunnam',\n 'http://dbpedia.org/resource/Quarantine',\n 'http://dbpedia.org/resource/Quebec',\n 'http://dbpedia.org/resource/Quezon_City',\n 'http://dbpedia.org/resource/Quilmes',\n 'http://dbpedia.org/resource/Rabat',\n 'http://dbpedia.org/resource/Rajasthan',\n 'http://dbpedia.org/resource/Rio_de_Janeiro',\n 'http://dbpedia.org/resource/Riverfront',\n 'http://dbpedia.org/resource/Road_traffic_control',\n 'http://dbpedia.org/resource/Rome',\n 'http://dbpedia.org/resource/Russia',\n 'http://dbpedia.org/resource/Rwanda',\n 'http://dbpedia.org/resource/Sage_Group',\n 'http://dbpedia.org/resource/Salamanca',\n 'http://dbpedia.org/resource/San_Diego',\n 'http://dbpedia.org/resource/San_Francisco',\n 'http://dbpedia.org/resource/San_Vicente_del_Raspeig_/_Sant_Vicent_del_Raspeig',\n 'http://dbpedia.org/resource/Santa_Elena_Province',\n 'http://dbpedia.org/resource/Santander_Department',\n 'http://dbpedia.org/resource/Saudi_Arabia',\n 'http://dbpedia.org/resource/Sauna',\n 'http://dbpedia.org/resource/Scrubs_(clothing)',\n 'http://dbpedia.org/resource/Senegal',\n 'http://dbpedia.org/resource/Serbia',\n 'http://dbpedia.org/resource/Severe_acute_respiratory_syndrome_coronavirus_2',\n 'http://dbpedia.org/resource/Sewage',\n 'http://dbpedia.org/resource/Shaheen_Bagh',\n 'http://dbpedia.org/resource/Shanghai',\n 'http://dbpedia.org/resource/Shenzhen',\n 'http://dbpedia.org/resource/Shipwreck',\n 'http://dbpedia.org/resource/Sicily',\n 'http://dbpedia.org/resource/Sierra_Leone',\n 'http://dbpedia.org/resource/Singapore',\n 'http://dbpedia.org/resource/Skopje',\n 'http://dbpedia.org/resource/Social_security',\n 'http://dbpedia.org/resource/Soft_drink',\n 'http://dbpedia.org/resource/Solapur_Airport',\n 'http://dbpedia.org/resource/Some_Cities',\n 'http://dbpedia.org/resource/South_Africa',\n 'http://dbpedia.org/resource/South_America',\n 'http://dbpedia.org/resource/South_Korea',\n 'http://dbpedia.org/resource/Southeast_Asia',\n 'http://dbpedia.org/resource/Spain',\n 'http://dbpedia.org/resource/Spice',\n 'http://dbpedia.org/resource/Sri_Lanka',\n 'http://dbpedia.org/resource/Sri_Lankan_sambar_deer',\n 'http://dbpedia.org/resource/Stockton,_California',\n 'http://dbpedia.org/resource/Sudan',\n 'http://dbpedia.org/resource/Sultan',\n 'http://dbpedia.org/resource/Supermarket',\n 'http://dbpedia.org/resource/Surat',\n 'http://dbpedia.org/resource/Swahili_language',\n 'http://dbpedia.org/resource/Swiss_Alps',\n 'http://dbpedia.org/resource/Switzerland',\n 'http://dbpedia.org/resource/Tainan',\n 'http://dbpedia.org/resource/Taipei',\n 'http://dbpedia.org/resource/Taiwan',\n 'http://dbpedia.org/resource/Tamil_Nadu',\n 'http://dbpedia.org/resource/Tea',\n 'http://dbpedia.org/resource/Telangana',\n 'http://dbpedia.org/resource/Temple',\n 'http://dbpedia.org/resource/Terrassa',\n 'http://dbpedia.org/resource/Texas',\n 'http://dbpedia.org/resource/Thailand',\n 'http://dbpedia.org/resource/Thane',\n 'http://dbpedia.org/resource/The_Animals',\n 'http://dbpedia.org/resource/The_Washington_Post',\n 'http://dbpedia.org/resource/Tijuana',\n 'http://dbpedia.org/resource/Tokyo',\n 'http://dbpedia.org/resource/Tonic_water',\n 'http://dbpedia.org/resource/Torre_Latinoamericana',\n 'http://dbpedia.org/resource/Totana',\n 'http://dbpedia.org/resource/Toulon',\n 'http://dbpedia.org/resource/Toulouse',\n 'http://dbpedia.org/resource/Tswana_language',\n 'http://dbpedia.org/resource/Turkey',\n 'http://dbpedia.org/resource/Tuscany',\n 'http://dbpedia.org/resource/Uganda',\n 'http://dbpedia.org/resource/Uganda_Red_Cross_Society',\n 'http://dbpedia.org/resource/Ukraine',\n 'http://dbpedia.org/resource/United_Kingdom',\n 'http://dbpedia.org/resource/United_States',\n 'http://dbpedia.org/resource/United_States_Army',\n 'http://dbpedia.org/resource/University_of_Georgia',\n 'http://dbpedia.org/resource/Uttar_Pradesh',\n 'http://dbpedia.org/resource/Vaccination_policy',\n 'http://dbpedia.org/resource/Vaccine',\n 'http://dbpedia.org/resource/Val_de_Cans_International_Airport',\n 'http://dbpedia.org/resource/Valencia',\n 'http://dbpedia.org/resource/Vellore',\n 'http://dbpedia.org/resource/Venezuela',\n 'http://dbpedia.org/resource/Venice',\n 'http://dbpedia.org/resource/Veracruz',\n 'http://dbpedia.org/resource/Vienna',\n 'http://dbpedia.org/resource/Vietnam',\n 'http://dbpedia.org/resource/Villavicencio',\n 'http://dbpedia.org/resource/Viral_video',\n 'http://dbpedia.org/resource/Virus',\n 'http://dbpedia.org/resource/Vitoria-Gasteiz',\n 'http://dbpedia.org/resource/Waiting_Rooms_(album)',\n 'http://dbpedia.org/resource/Wales',\n 'http://dbpedia.org/resource/Walmart',\n 'http://dbpedia.org/resource/Water_vapor',\n 'http://dbpedia.org/resource/Wayanad_district',\n 'http://dbpedia.org/resource/Wet_market',\n 'http://dbpedia.org/resource/White_House',\n 'http://dbpedia.org/resource/World_Health_Organization',\n 'http://dbpedia.org/resource/Wuhan',\n 'http://dbpedia.org/resource/Yangon_Region',\n 'http://dbpedia.org/resource/Yemen',\n 'http://dbpedia.org/resource/Yozgat',\n 'http://dbpedia.org/resource/Zgorzelec',\n 'http://dbpedia.org/resource/Zika_fever',\n 'http://dbpedia.org/resource/Zulu_language',\n 'http://dbpedia.org/resource/Štip'}"
     },
     "metadata": {},
     "output_type": "display_data"
    }
   ],
   "source": [
    "is_in_entities_flatten = [entity for entities in is_in_entities for entity in entities]\n",
    "dbpedia_entities = set([entity for entity in is_in_entities_flatten if 'dbpedia' in entity])\n",
    "display(dbpedia_entities)"
   ],
   "metadata": {
    "collapsed": false,
    "pycharm": {
     "name": "#%%\n"
    }
   }
  },
  {
   "cell_type": "code",
   "execution_count": 24,
   "outputs": [
    {
     "data": {
      "text/plain": "{'Council',\n 'deplorable state',\n 'Indian state of U.P.',\n 'virus outbreak',\n 'that state secret',\n 'spreading coronavirus',\n 'Academy John Maxwell',\n 'state of Uttar Pradesh',\n 'because air for 8 hours',\n 'them',\n 'that there have cases',\n 'Chaos',\n 'female overseas Filipino worker',\n 'COVID 19 patinet',\n 'mistake',\n 'scent of eucalyptus leaf',\n 'Religion',\n 'response to pandemic',\n 'Ministry',\n 'cure',\n 'Brazilian state of Santa Catarina',\n 'Ooty Coimbatore roads',\n 'video show coronavirus patients',\n 'treating coronavirus',\n 'packed beach',\n 'Valencia region',\n 'lungs',\n 'looting spree',\n 'inspection kits from China',\n 'March',\n 'authority',\n 'Breathing',\n 'countries',\n 'hospitals',\n 'abortion funding',\n 'Jordan car',\n 'Hindu boys',\n 'demolished 5G stations',\n '5G towers',\n 'south India',\n 'COVID 19 infection',\n 'Federal representative',\n 'crowd',\n 'city of Jaipur',\n 'remedy',\n 'someone',\n 'Minister',\n 'that there would riots',\n 'public spaces',\n 'migrant workers',\n 'PCR tests',\n 'Easter communion',\n 'COVID infections',\n 'Medicine Tasuku Honjo',\n 'vaccine trials',\n 'virology lab',\n 'people time of need',\n 'suits',\n 'Airports',\n 'implementation',\n 'you breath',\n 'Sevabharathi workers',\n 'their homes',\n 'Argentine province of Chaco',\n 'Puerta de Hierro hospital',\n 'economic crisis',\n 'list',\n 'tomatoes',\n 'funeral home',\n 'American streets',\n 'house garden',\n 'Someone living',\n 'battle against COVID 19',\n 'Video',\n 'Police home',\n 'interview',\n 'domiciliation order',\n 'parks',\n 'midst of coronavirus crisis',\n 'Delhis Loknayak hospital',\n 'Ruilan Bao Hu San Biotech Limited',\n 'Maharashtras Malegaon Fake News',\n 'USA march',\n 'order to activate amid COVID 19 situation',\n 'Resident Evil games',\n 'New Zealand country',\n 'single place',\n 'novel coronavirus lockdown measures',\n 'overcrowded train from Mumbai to West Bengal',\n 'extension',\n 'Currency Notes Strewn',\n 'pharmacies',\n '14 days',\n 'police forces',\n 'Montparnasse train station',\n 'Debar',\n 'lockdown measure',\n 'that map',\n 'huge rally',\n 'opening show',\n 'form of quote cards',\n 'chaos',\n 'thousands',\n 'Main hospital',\n 'inside Pepsi bottles',\n 'Brazilian state of São Paulo',\n 'Everyone',\n 'party',\n 'Guinean government',\n 'Lugar Lab alongside South Ossetian border',\n 'outbreak',\n 'capacity',\n 'Bihar ’s Hajipur station',\n 'cup of hot water',\n 'imply cuts',\n 'poultry products',\n 'Eight COVID 19 patients',\n 'new Nightingale Hospital',\n 'Mall',\n 'Manchester with blood group O negative',\n 'several new confirmed cases',\n 'than first half of 2020',\n 'packets',\n 'Stores',\n 'university clinic',\n 'coronavirus test',\n 'dangerous experiments',\n 'front',\n 'Janata curfew',\n 'Akbarpur block',\n 'hands of God',\n 'apartment',\n 'coronavirus pandemic',\n 'city of Chemnitz',\n 'Muslim march',\n 'street',\n 'hallway',\n 'phase of lockdown sequence',\n '2014',\n 'nurses',\n 'former infamous prison',\n 'Coronavirus epidemic',\n 'councilor',\n 'Mountain Matterhorn',\n 'Emmanuel Macron residency',\n 'current lockdown',\n 'large Muslim crowd',\n 'Thieves',\n 'several regions',\n 'Miami Roof Viral as Coronavirus Source',\n 'meeting',\n 'blood',\n 'Bom Prato',\n 'first person',\n 'COVID 19 death tool',\n 'Kogi State Governor',\n 'scientist',\n 'houses',\n 'patients',\n 'liquor shop',\n 'increase',\n 'respiratory illnesses',\n 'named Surat',\n 'to police',\n 'schools',\n 'Kalabari district',\n 'crowded space',\n 'Coronavirus death toll',\n 'wine shop',\n 'Ruling Party',\n 'than 2020',\n 'Russian doctors',\n 'Montero',\n 'World Economic Forum 2020',\n 'self proclaimed Lugansk People ’s Republic',\n 'Muslim People',\n 'migrant',\n 'ones body',\n 'female doctor',\n 'confrontation',\n 'new hospital',\n 'Bihar Health Department',\n 'Homeless man',\n 'c section',\n 'SARS',\n 'biggest drop',\n 'Busting False Claims',\n 'throat',\n 'surge',\n 'first week end',\n 'that there community transmission',\n 'new vaccination system inserts',\n 'COVID 19 restrictions',\n 'local hospital',\n 'nurse',\n 'novel coronavirus vaccine',\n 'curbing COVID 19',\n 'Brazilian volunteer',\n 'Rajasthan ’s Jhalawar India',\n 'wing group',\n 'two neighborhoods',\n 'departament',\n 'Biggest public hospital',\n 'that eight country',\n 'trucks',\n 'his eyes',\n 'January 2020',\n 'COVID 19 spread',\n 'protective medical gear',\n 'doctors',\n 'hospital in Brazil',\n 'other countries',\n 'UP Falsely Shared',\n 'apocalyptic scenes',\n 'contamination',\n 'large group',\n 'media',\n 'shortage',\n 'isolation',\n 'cases of pneumonia',\n '1800',\n 'nostrils',\n 'two coronavirus cases',\n 'Maharashtra state',\n 'hospital Messejana',\n 'respiratory diseases',\n 'coronavirus case',\n 'reporter',\n 'worship',\n 'Old city',\n 'Cali ’s neighborhood',\n 'Jail Premises',\n 'crisis headquarters',\n 'elderly people',\n 'news',\n 'mass outbreak',\n 'Healthcare workers',\n 'Maharashtras Malegaon',\n 'riot',\n 'Sri Lankan Navy base',\n 'northeastern Ukrainian city of Kharkiv',\n 'complete quarantine',\n 'Chandni Chowk area of Delhi',\n 'director',\n 'spreading COVID 19',\n 'supermarkets',\n 'to city Aizwal',\n 'curfew restrictions',\n 'Indians bathing',\n 'lockdown norms',\n 'lack of confinement',\n 'anti-Chinese protest',\n 'Form',\n 'that situation',\n 'five years',\n 'Water',\n 'Indian nurse',\n '220,000 new coronavirus cases',\n 'Lockdown violation',\n 'Education',\n 'Paris hospitals',\n 'than France',\n 'Argentine province of Santiago del Estero',\n 'different locations',\n 'Tefilo Dvila Hospital',\n 'UK coronavirus vaccine trial',\n 'series',\n 'Gines',\n 'Chinese city of Wuhan',\n 'combating coronavirus',\n 'Drugstores',\n 'Claims',\n '25.000 deaths',\n 'West Bengal',\n 'COVID 19 geolocation measures',\n 'first COVID 19 patient',\n 'Wuhan cure COVID 19',\n 'April 22 jump',\n 'strain',\n 'Government delegation',\n 'viral WhatsApp voice note',\n 'scar',\n 'empty field hospital',\n 'three weeks',\n 'that current situation',\n '3 people',\n 'panicked shoppers',\n 'coronavirus death rate',\n '50 new cases',\n 'Nizamuddin Markaz',\n 'Мayor',\n '19 year old grocery store worker own carbon dioxide',\n 'Computing Forever interview',\n 'attack',\n 'house',\n 'enemy',\n 'mortality increase',\n 'Ibirapuera Gymnasium temporary hospital',\n 'Sulfur dioxide pollution',\n 'first half of 2019',\n 'Oklahoma',\n 'Italy hands',\n 'Italy chest',\n 'Shaheen Bagh protest',\n 'Muslim owned restaurants',\n 'collusion with France',\n 'Hospital La Paz',\n 'churches',\n 'ration materials for poor people amidst lockdown',\n 'Criminals',\n 'different cities',\n 'Increase',\n 'messaging app Line',\n 'hospital staff',\n 'food delivery apps',\n 'communal spin',\n 'masid',\n 'plane',\n 'confirmed coronavirus cases',\n 'Virology Research Center',\n 'user ’s movements',\n 'Police',\n 'that there more room',\n 'bodies',\n 'survival',\n 'one COVID 19 case',\n 'Brazilian city',\n 'outdoor activities',\n 'Children',\n 'alleged aid',\n 'your home',\n 'India home states',\n 'shift',\n 'post',\n 'COVID 19 nobody',\n 'recent hantavirus case',\n \"Simpsons ' predicted Tom Hanks getting coronavirus\",\n 'Chinese Embassy',\n 'coffins',\n 'Tabligi Jamat members',\n 'conference',\n 'factory',\n 'corruption',\n 'doctor couple',\n 'it',\n 'U.S. state of Oregon',\n 'that there have tanks',\n 'biological lab',\n 'specialization',\n 'certain areas',\n 'Bdesh Shared',\n 'Thyroce lab',\n 'more respirators',\n 'Director',\n 'State',\n 'airport',\n 'Kerala gambling',\n 'Prime Minister of Mexico',\n '100 Nurses',\n 'public institutions',\n 'empty church',\n 'Two doctors',\n 'Oregon parent',\n 'Colorado Springs',\n 'Ecuador health condition',\n 'Chinese Supermarkets',\n 'lockdown conditions',\n 'Diliman Doctors Hospital',\n 'COVID nobody',\n 'banning chloroquine',\n '5G antennas',\n 'rooftops',\n 'institutions',\n 'Times of COVID 19',\n '6 000 coronavirus infections',\n 'certain viral outbreaks',\n 'Dolores Cahill',\n 'photo about death tolls from COVID 19 show',\n 'Japanese medical professional providing aid',\n 'black bags allegedly from hospitals',\n 'Delhi ’s Sultanpuri area',\n 'enhanced community quarantine',\n 'People blood',\n 'COVID 19 infections',\n 'largest coronavirus cluster',\n '2009',\n 'car',\n 'Australian city of Melbourne',\n 'hoax',\n 'Chinese woman',\n 'August 1st rally',\n 'capital of Latvia',\n 'coronavirus fatalities',\n 'that organized country',\n 'one bus',\n 'tiles',\n 'seven coronavirus victims',\n 'Aldi supermarket',\n 'flooded NMCH hospital',\n 'restaurant',\n 'German states',\n 'editorial',\n 'examinations',\n 'representative',\n 'Bosch company',\n 'based ivermectin',\n 'UK COVID 19 vaccine trial',\n 'supermarket chain',\n 'COVID 19 Suspects Landing',\n 'infested roof',\n 'sadhu',\n '1,000 coronavirus cases',\n 'has hidden foreigners',\n 'Scripps urgent care',\n 'Ahmedabad for Namaste Trump rally',\n 'Various groups',\n 'Uber services',\n 'world',\n 'Spain customers',\n 'Coronavirus fears',\n '40 thousand people',\n 'pandemics',\n '4 states',\n 'chloroquine stock',\n 'Telangana Ministry',\n 'fire',\n 'region',\n 'too much CO2',\n 'Lenox Hills Hospital',\n 'Image',\n 'first Europe human trial of COVID 19 vaccine',\n 'police',\n 'Slices',\n 'swimming',\n 'last 100 years',\n 'COVID 19 pacient',\n 'nitrogen levels',\n 'Akelicious.net',\n 'Bolsa Famlia',\n 'simulation',\n 'spike',\n 'leader',\n 'cases',\n 'plasma treatment',\n 'Picture',\n 'Janta curfew',\n 'current curfew period',\n 'Koran recitation',\n 'Students',\n 'Islamic call',\n 'blood vessels',\n '47 vulnerable countries',\n 'Two Chinese nationals',\n 'Turkish citizen',\n 'many COVID 19 patinents',\n 'civil registry offices',\n 'scientists',\n 'Macarthur Region of Australia',\n 'largest hole',\n 'governor',\n 'Postobon tank',\n 'suspicious case',\n 'recent picture',\n 'Offering Namaz',\n 'Pakistani city of Karachi',\n 'town of Langres',\n 'quarantined people',\n 'Chandni Chowk market',\n '83percent rise',\n 'places',\n 'Madhya Pradesh ’s Indore',\n 'COVID 19 situation',\n 'in Janata Curfew',\n 'people',\n 'looting',\n 'COVID 19 disease',\n 'correspondent',\n 'charge of coronavirus emergency',\n 'Two local celebrities',\n 'Sechenov First Moscow State Medical University',\n 'existing lockdown',\n 'Tourism',\n 'Spanish city of Valencia employees',\n 'similar spike',\n 'need',\n 'New Zealand',\n 'Numbers',\n '2019',\n 'plague epidemic',\n 'Department',\n 'that more coronavirus cases',\n 'Botafogos beach',\n 'good results',\n 'TV channel',\n 'protests',\n 'first participants',\n 'July 2020',\n 'air for 8 hours',\n 'Eight regions',\n 'coronavirus stimulus package',\n 'page',\n 'day progression',\n 'San Marcos 2020 National Fair',\n 'discrimination',\n 'university',\n 'leather',\n 'chief Mohan Bhagwat belief',\n 'that should measure',\n 'demonstration',\n 'Coronavirus life span',\n 'COVID 19 tests',\n 'hospital car park',\n 'August 2020',\n 'provinces',\n 'white spots',\n 'federal investigation',\n 'Sao Paulo state',\n 'Mass vaccination',\n 'primary supplier',\n 'hot steam',\n 'number one country',\n '1981 mentioned coronavirus',\n 'partnership with United States Agency for International Development',\n 'page of Koran',\n 'Italian hospitals',\n 'bowl',\n 'first woman',\n 'COVID 19 vaccine',\n 'Wednesday effect for 14 days',\n 'passengers',\n 'University hospital',\n 'response to lack of masks',\n 'toxic insect attack',\n 'Election years',\n 'attendees',\n 'COVID 19',\n 'fact',\n 'Andorra on 2/10/20',\n 'German city of Dresden',\n 'local magazine',\n 'lowest death rate',\n 'develop 5G',\n 'inconsistencies',\n 'Faculty',\n 'ventilators',\n 'Cercerda',\n 'first coronavirus patient',\n 'U.S.',\n 'Daughter',\n 'warm water',\n 'alleged tweet',\n 'worst coronavirus crisis',\n 'Republic of North Macedonia',\n 'Military Hospital',\n 'confidence',\n 'Tamil Nadu state of India',\n 'laboratory',\n 'case',\n 'Wards',\n 'Mosque',\n '21 point list',\n 'Bolivian Government Minister Arturo Murillo',\n 'El Cachorro',\n 'Tower',\n 'quotes',\n 'phone',\n 'that lab',\n 'coronavirus fight',\n 'children',\n 'China storm supermarket',\n 'hot mic conversation',\n 'coronavirus cases',\n 'Carrefour supermarkets',\n '200 doctors',\n 'very bad condition',\n 'SO2 emissions around Wuhan',\n 'animal market',\n '11 p.m.',\n 'government',\n 'forecast table',\n 'city of Fortaleza',\n 'europe Muslims',\n 'benefit of medecine remdesivir',\n 'Muslim boy',\n 'entire family',\n 'new director',\n 'two COVID 19 cases',\n 'ban',\n 'Colombian government',\n 'there will public mass gatherings',\n 'bank',\n 'multiple social media posts',\n 'suspected infected people',\n 'name',\n 'governing parties',\n 'two possible COVID 19 cases',\n 'documentary Plandemic retold',\n 'U.S. state of New York',\n 'first phase of lockdown sequence',\n 'sending flour bags with cash',\n '100 nurses',\n 'orange peels wit cayenne pepper',\n 'North Macedonian town of Stip',\n 'quarantine center',\n 'crackland',\n 'positive temple priest',\n 'Men',\n 'Full page ad',\n 'groceries',\n 'tension',\n '1551 passage about plague spreading from east',\n 'nothing left',\n 'Bolivia shares information on unknown cures for COVID 19',\n 'New COVID 19 Cases',\n 'COVID 19 case',\n '1918',\n '1500 viruses',\n 'last 70 years',\n 'Maasai tribe member',\n '2013',\n 'titled Tintin',\n 'crowded beach',\n 'Jama Masjid market',\n '3 p.m.',\n '1940',\n 'Chinese city of Xining',\n 'video turn',\n 'arrest',\n 'British newspaper',\n 'putting money',\n 'Ethiopian airlines flight from Italy',\n 'daughter',\n 'midst',\n 'police spokesperson',\n 'COVID 19 outbreak',\n '2020',\n 'Various graphics',\n 'infections',\n 'Matterhorn mountain',\n 'anti-quarantine march',\n 'bar',\n 'São Paulo ’s Crackland',\n 'fighting coronavirus',\n 'Doctoral Degree',\n 'door',\n 'lockdown restrictions',\n 'people gods',\n 'collaboration with pharmaceutical companies',\n 'Kilinochchi area',\n 'given viral Whatsapp message',\n 'Central Hospital',\n 'Brazilian city of Belo Horizonte',\n 'money',\n 'volunteer',\n 'confirmed case',\n 'Mohan Bhagwat Never Said Mohan Bhagwat Lost Faith',\n 'Riots',\n 'multiple posts on Facebook',\n 'Physiology',\n 'Chinniyampalayam',\n 'indigenous medicine',\n 'Israel ’s ambassador',\n 'high sulphur dioxide',\n 'mask',\n 'coronavirus poisoning',\n 'Cops',\n 'implementing unique policies',\n 'since there movement',\n 'Kyiv',\n 'hands',\n 'showing COVID 19 symptoms',\n 'riots',\n 'May',\n 'western New York state',\n 'families',\n 'parking lot',\n 'Death toll',\n 'textile factories',\n 'Spanish city of Valencia',\n 'wake of COVID 19',\n 'hospital in Banlic',\n 'Aizwal',\n 'Chang Gung Hospital',\n '2017',\n 'civil volunteers',\n 'similar app',\n 'Hakata Port',\n 'heme groups',\n 'water India',\n 'areas of South Korea',\n 'Madhya Pradesh ’s Khargone',\n 'market',\n 'lead researcher',\n 'Empty supermarket',\n '2015',\n 'religious communities',\n 'Health Minister',\n 'residential block',\n 'coronavirus self diagnosis',\n 'your DNA',\n 'Medellns El Hueco market',\n 'one person',\n 'your phones contact',\n 'Health Ministry',\n 'segmented map',\n 'robbing Criminals',\n 'gold mask',\n 'Italy cheers',\n 'Maturn city',\n 'various countries including Lebanon',\n 'outside People',\n 'will home',\n 'nation',\n '7th CISM Military World Game',\n 'Tunisian scientist',\n 'massive human cremation',\n 'to isolation room',\n 'as protest',\n 'U.S. 38percent of those hospitalized',\n 'regional government',\n 'Oct 2019',\n 'Lima',\n 'Italian hospital',\n 'ozone layer over Arctic region',\n 'state of Bihar',\n 'Fortaleza',\n 'Italy storm supermarket',\n '1 million people',\n 'Fact Checks',\n 'DR Congo',\n '5,000 patients',\n '59 church congregation',\n 'sea',\n 'Nizamuddin guys',\n 'city hall ’s work',\n 'Boris Johnson shopping',\n 'markets',\n 'train',\n '5 Phases',\n 'Off Navaratri',\n 'queue',\n 'return',\n 'incident',\n 'prevention of coronavirus in America',\n 'Ceará',\n 'Hospital',\n 'Nipah Virus outbreak',\n 'buildings',\n 'Institute',\n 'lockdown',\n 'last 3 5 years',\n 're-opened wet market',\n 'General Administration',\n 'reported cases',\n 'health service',\n 'police officer',\n 'image',\n 'poor people',\n 'imposters',\n 'Photo',\n '1Kg wheat flour',\n 'built hospital',\n 'body',\n 'countries like Sweden',\n 'corpses',\n 'state',\n 'Italy family',\n 'statues',\n 'large crowd',\n '1,000 bed hospital',\n 'Indian Army Set',\n 'coronavirus rules',\n 'Bhuj Mandir',\n 'COVID patients',\n 'underground tunnels',\n 'church',\n 'face mask',\n 'coronavirus patient',\n 'death figures',\n 'lift',\n 'polio vax',\n 'America of COVID',\n 'Indian religious leader Mata Amritanandamayi hermitage',\n 'infectious diseases',\n 'city of Wuhan',\n 'current COVID 19 lockdown',\n 'first phase',\n 'Russian hospital',\n 'Rivers',\n 'coronavirus test ranking',\n 'Palma',\n 'football stadium',\n 'Bihars Hajipur Jail',\n 'celebrations',\n 'tea bottle',\n 'that security breach',\n 'colors of Syrian flag',\n 'grocery store worker',\n 'streets surrendering',\n 'Kozhikode Police',\n 'secret vaccine',\n 'Covid 19',\n 'Multiple posts',\n 'authorities',\n 'complete lockdown',\n 'airport runway',\n 'People',\n 'user',\n 'ministry',\n 'South of France',\n 'countries including South Korea',\n 'Shenzhen hospital',\n 'highest unemployment rate',\n 'breaking lockdown orders',\n 'Jewish synagogue',\n 'lower house',\n 'patients with COVID 19',\n 'fish deaths',\n 'special treatment',\n 'inebriated state',\n 'death',\n 'map',\n 'Muñíz Hospital',\n 'COVID cases',\n 'Portuguese',\n 'Rohini flyover',\n '22 travelers',\n 'BMCs Appeal',\n 'potential COVID 19 vaccine',\n 'form',\n 'virology institute',\n 'coronavirus victims',\n 'briefing session',\n 'intensive care beds',\n 'colleges',\n 'several areas',\n 'Home treatment',\n 'quarantine measures',\n 'national newspaper',\n 'COVID 19 cases',\n 'public servant',\n 'first COVID 19 patients',\n 'Palestine',\n 'SGRH hospital',\n 'Dublin city centre',\n 'young people',\n 'Ganges river',\n '2004',\n 'nationwide coronavirus lockdown',\n 'least deaths',\n 'to deaths',\n 'flu cases',\n 'isolation measures',\n 'publication',\n 'light of COVID 19 pandemic',\n 'harmful vaccination campaigns',\n 'representation',\n 'U.S. history',\n 'furloughing nurses',\n 'use',\n 'COVID 19 pandemic',\n 'Bird Attack',\n 'sheep surrender',\n 'other Asian countries',\n 'angry citizens',\n 'enforcing lockdown',\n 'Obelisk',\n 'Chinese shop owner',\n 'infected woman',\n 'lowest mortality rates',\n 'Viral photo',\n 'treating coronavirus patients',\n 'Muslim worshippers',\n 'Valle del Lili Foundation',\n 'Tunisian hospitals',\n 'to IDH Hospital',\n 'Valley Regional Medical Center',\n 'Migrant labourers',\n 'first infected person',\n 'recent speech',\n '300 people',\n 'woman',\n 'lengana',\n 'open air drug market',\n 'Group',\n 'except God',\n 'Boy washing apples',\n 'Airport',\n 'Ministry of Health',\n 'COVID 19 treatment',\n 'helping people',\n 'conspiracy',\n 'upcoming New Zealand elections',\n 'Colombia Shared',\n 'China chase COVID 19',\n 'gay party',\n 'beach',\n 'current situation',\n 'umhlonyane',\n 'last country',\n 'Macedonian claims',\n 'hospital Fundación Jiménez Díaz',\n 'London home made art',\n 'Puttalam area',\n 'thefts',\n 'lauding SL government ’s efforts',\n 'audio clip',\n 'time of coronavirus',\n 'LGBTQ people',\n 'big boulevards',\n 'COVID 19 Vaccine',\n 'world politics',\n 'wars',\n 'state of Gujarat',\n 'Coronavirus fear',\n 'breathing',\n 'Spain issues',\n 'Idukki book Les Propheties',\n 'Boycott Muslim Businesses',\n 'Coronavirus patients',\n 'putting mustard oil',\n 'day',\n 'Hospital La Margarita',\n 'community transmission',\n 'viral WhatsApp audio',\n 'Homeopathic doctor',\n 'legal decree',\n 'strictest measures',\n 'Hindu man',\n 'COVID 19 test',\n 'Work suspension',\n 'fall',\n 'losing man',\n 'history of COVID 19 distribution',\n 'test results',\n 'unrestrictive controls',\n 'FB post',\n 'two different beaches',\n 'group',\n 'that ineffective measure',\n 'Aurangabad',\n 'local force',\n 'Dedan Kimathi University',\n 'Mantova hospital',\n 'isolation ward',\n 'test purchase for COVID 19',\n 'that respected ones',\n 'five seconds',\n 'Dehradun spitting',\n 'first COVID free state',\n 'drug',\n 'spread',\n 'Dr. VK Srinivas',\n 'staff',\n 'COVID 19 reference hospital',\n 'German politician Wolfgang Gedeon',\n 'four Asian countries',\n 'cell phone',\n 'Hindus uselessness',\n 'exchange for granting aid to aid in face of COVID 19 crisis',\n 'faith',\n 'coronavirus affected patients',\n '30 cases',\n 'novel coronavirus outbreak',\n 'fight against novel coronavirus',\n 'Nairobi residents',\n 'recommendations',\n 'recipients',\n 'called Maliyirinin',\n 'terms of how many coronavirus tests',\n '15 June',\n 'biggest telecom networks',\n 'North Korean president country',\n 'Mizoram state of India',\n '10 seconds',\n 'clean waters',\n 'distress',\n 'Wales hands',\n 'Opposition parties',\n 'his hand',\n 'that there will spike',\n 'COVID 19 checkpoint',\n 'strength',\n 'important tourist destination',\n 'lockdown periods',\n 'North American economy GDP of 33percent',\n 'downtown Nairobi',\n 'wake of coronavirus outbreak',\n 'Pics',\n 'scene',\n 'army camps',\n 'child',\n 'restaurants',\n 'Gachibowli stadium',\n 'Emmanuel Macron residency of Bregançon',\n 'seventh CISM Military World Games',\n '21 day lockdown',\n 'April 3',\n 'Rio',\n 'Quarantine center',\n ...}"
     },
     "metadata": {},
     "output_type": "display_data"
    }
   ],
   "source": [
    "non_dbpedia_entities = set([entity for entity in is_in_entities_flatten if 'dbpedia' not in entity])\n",
    "display(non_dbpedia_entities)"
   ],
   "metadata": {
    "collapsed": false,
    "pycharm": {
     "name": "#%%\n"
    }
   }
  },
  {
   "cell_type": "markdown",
   "source": [
    "## Second Dataset"
   ],
   "metadata": {
    "collapsed": false,
    "pycharm": {
     "name": "#%% md\n"
    }
   }
  },
  {
   "cell_type": "code",
   "execution_count": 48,
   "outputs": [
    {
     "name": "stdout",
     "output_type": "stream",
     "text": [
      "(6420, 5)\n",
      "(3060, 5)\n"
     ]
    }
   ],
   "source": [
    "df_2 = pd.read_csv('./Constraint_English_Train-with-relations.csv', converters={'relations': eval})\n",
    "print(df_2.shape)\n",
    "\n",
    "df_2 = df_2.loc[df_2['label'] == 'fake']\n",
    "print(df_2.shape)\n"
   ],
   "metadata": {
    "collapsed": false,
    "pycharm": {
     "name": "#%%\n"
    }
   }
  },
  {
   "cell_type": "code",
   "execution_count": 49,
   "outputs": [
    {
     "name": "stdout",
     "output_type": "stream",
     "text": [
      "is                                620\n",
      "is in                             606\n",
      "has                               396\n",
      "shows                             338\n",
      "was                               311\n",
      "                                 ... \n",
      "how much controls                   1\n",
      "however sent                        1\n",
      "however sent tests to               1\n",
      "ignore                              1\n",
      "#CoronaCheck #coronavirusfacts      1\n",
      "Length: 3583, dtype: int64\n"
     ]
    }
   ],
   "source": [
    "relation_list_2 = [relation for relations in df_2['relations'] for relation in relations]\n",
    "relation_count_2 = pd.DataFrame(relation_list_2).value_counts()\n",
    "print(relation_count_2)\n"
   ],
   "metadata": {
    "collapsed": false,
    "pycharm": {
     "name": "#%%\n"
    }
   }
  },
  {
   "cell_type": "code",
   "execution_count": 50,
   "outputs": [
    {
     "name": "stdout",
     "output_type": "stream",
     "text": [
      "is                                         620\n",
      "is in                                      606\n",
      "has                                        396\n",
      "shows                                      338\n",
      "was                                        311\n",
      "are                                        301\n",
      "have                                       260\n",
      "will                                       150\n",
      "be                                         144\n",
      "looks like                                 131\n",
      "are dying                                  128\n",
      "’s                                          99\n",
      "is with                                     97\n",
      "were                                        89\n",
      "said                                        79\n",
      "might Under                                 60\n",
      "get                                         59\n",
      "commits suicide by                          56\n",
      "showing                                     55\n",
      "was on                                      42\n",
      "Originated                                  40\n",
      "being                                       40\n",
      "show                                        37\n",
      "find ground                                 32\n",
      "had                                         32\n",
      "can                                         32\n",
      "Wondered                                    32\n",
      "are prescribing antihistamines daily as     32\n",
      "are prescribing antihistamines as           32\n",
      "draws                                       31\n",
      "take                                        31\n",
      "need                                        30\n",
      "found                                       30\n",
      "died                                        30\n",
      "Is                                          27\n",
      "Was                                         26\n",
      "refuse                                      25\n",
      "can cure                                    23\n",
      "#coronavirus                                23\n",
      "should start                                22\n",
      "claims                                      22\n",
      "suggest                                     22\n",
      "caused                                      22\n",
      "should also start                           22\n",
      "make                                        22\n",
      "create                                      21\n",
      "receive                                     21\n",
      "is In                                       21\n",
      "avoid                                       21\n",
      "are in                                      21\n",
      "of                                          21\n",
      "Image of are                                20\n",
      "scolds citizens for                         20\n",
      "has completed                               20\n",
      "published                                   20\n",
      "call for                                    20\n",
      "completed for                               20\n",
      "records                                     19\n",
      "visited                                     19\n",
      "using                                       19\n",
      "tests                                       19\n",
      "fight                                       19\n",
      "in                                          19\n",
      "allow                                       19\n",
      "kills                                       18\n",
      "Empress of Is                               18\n",
      "included                                    18\n",
      "could                                       18\n",
      "buy alcohol during                          18\n",
      "do                                          18\n",
      "separate                                    18\n",
      "been                                        18\n",
      "shares                                      17\n",
      "gives                                       17\n",
      "answer                                      17\n",
      "use                                         17\n",
      "are killing pet owners cats by              16\n",
      "spoke                                       16\n",
      "eliminate germs in                          16\n",
      "made                                        16\n",
      "are up because                              16\n",
      "stands for                                  16\n",
      "ends lockdown after                         16\n",
      "spoke in                                    16\n",
      "Are Watching                                16\n",
      "volunteer                                   16\n",
      "Are Still Watching                          16\n",
      "are throwing Italians money                 16\n",
      "declared                                    16\n",
      "indicated on                                16\n",
      "literally stands for                        16\n",
      "be against                                  16\n",
      "has issued                                  15\n",
      "find                                        15\n",
      "cause                                       15\n",
      "spread                                      15\n",
      "has stated                                  15\n",
      "tested after                                15\n",
      "released                                    14\n",
      "are lower than                              14\n",
      "are significantly lower than                14\n",
      "Are                                         14\n",
      "caused by                                   14\n",
      "Feeling                                     14\n",
      "shared                                      14\n",
      "am                                          13\n",
      "wear                                        13\n",
      "died of                                     13\n",
      "used                                        13\n",
      "’re                                         13\n",
      "’re in                                      13\n",
      "falsely said                                13\n",
      "Be                                          13\n",
      "stop                                        13\n",
      "say                                         13\n",
      "have died from                              13\n",
      "see                                         13\n",
      "causes                                      13\n",
      "called                                      13\n",
      "are facing                                  12\n",
      "was set up in                               12\n",
      "stated                                      12\n",
      "are killing pet owners cats in              12\n",
      "created                                     12\n",
      "died in                                     12\n",
      "'s round up                                 12\n",
      "could end                                   12\n",
      "was cancelled                               12\n",
      "pushing                                     12\n",
      "did try                                     12\n",
      "has sent                                    12\n",
      "cited                                       12\n",
      "should pay                                  12\n",
      "claimed                                     12\n",
      "Become                                      12\n",
      "hoaxes surface in                           12\n",
      "checked                                     12\n",
      "mean devastation                            12\n",
      "goes                                        12\n",
      "portraying it as                            12\n",
      "drinking                                    12\n",
      "cautioning because                          12\n",
      "warn about                                  12\n",
      "enter ERs with                              12\n",
      "include                                     12\n",
      "outlawed                                    12\n",
      "did even try                                12\n",
      "is necessary                                12\n",
      "prevent                                     12\n",
      "know                                        11\n",
      "claim                                       11\n",
      "predicted                                   11\n",
      "has given                                   11\n",
      "killed                                      11\n",
      "detected #COVID19 cases in                  11\n",
      "can kill                                    11\n",
      "held                                        11\n",
      "has ordered                                 11\n",
      "took                                        11\n",
      "Get                                         11\n",
      "can blame on                                11\n",
      "want                                        11\n",
      "stay                                        11\n",
      "built                                       11\n",
      "have developed                              11\n",
      "infected with                               10\n",
      "recorded                                    10\n",
      "found in                                    10\n",
      "can show                                    10\n",
      "COVID                                       10\n",
      "serves                                      10\n",
      "were recorded at                            10\n",
      "recovered from                              10\n",
      "asked                                       10\n",
      "refuses                                     10\n",
      "continue                                    10\n",
      "cures                                       10\n",
      "breaks down during                          10\n",
      "tested                                      10\n",
      "is country with                             10\n",
      "are treatments against                      10\n",
      "got                                         10\n",
      "would                                       10\n",
      "are left                                    10\n",
      "screening travelers from                     9\n",
      "has taken                                    9\n",
      "Warn                                         9\n",
      "control                                      9\n",
      "beaten up by                                 9\n",
      "prevents                                     9\n",
      "face                                         9\n",
      "turn                                         9\n",
      "is remedy for                                9\n",
      "become                                       9\n",
      "Read                                         9\n",
      "is effective remedy for                      9\n",
      "fast                                         9\n",
      "was supposed Under                           9\n",
      "endorses                                     9\n",
      "gave                                         9\n",
      "dtype: int64\n"
     ]
    }
   ],
   "source": [
    "top_n_2 = relation_count_2[:200]\n",
    "pd.set_option('display.max_rows', None)\n",
    "print(top_n_2)\n",
    "pd.reset_option('display.max_rows')\n",
    "\n",
    "\n",
    "\n"
   ],
   "metadata": {
    "collapsed": false,
    "pycharm": {
     "name": "#%%\n"
    }
   }
  }
 ],
 "metadata": {
  "kernelspec": {
   "display_name": "Python 3",
   "language": "python",
   "name": "python3"
  },
  "language_info": {
   "codemirror_mode": {
    "name": "ipython",
    "version": 2
   },
   "file_extension": ".py",
   "mimetype": "text/x-python",
   "name": "python",
   "nbconvert_exporter": "python",
   "pygments_lexer": "ipython2",
   "version": "2.7.6"
  }
 },
 "nbformat": 4,
 "nbformat_minor": 0
}