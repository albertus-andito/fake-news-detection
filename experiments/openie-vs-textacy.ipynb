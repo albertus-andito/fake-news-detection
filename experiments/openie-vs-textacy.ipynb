{
 "cells": [
  {
   "cell_type": "code",
   "execution_count": 1,
   "metadata": {
    "collapsed": true
   },
   "outputs": [],
   "source": [
    "from stanfordcorenlp import StanfordCoreNLP\n",
    "from pyopenie import OpenIE5\n",
    "import textacy\n",
    "import json\n",
    "import pprint\n",
    "import pandas as pd"
   ]
  },
  {
   "cell_type": "code",
   "execution_count": 2,
   "outputs": [],
   "source": [
    "stanford = StanfordCoreNLP(r'C:\\Users\\aandi\\Documents\\Uni\\Final Year\\FYP Code\\stanford-corenlp-4.2.0')\n",
    "stanford_props={'annotators': 'openie', 'pipelineLanguage': 'en', 'outputFormat': 'json'}\n",
    "iit = OpenIE5('http://localhost:8000')\n",
    "\n",
    "simple_sentences = [\n",
    "    \"The Simpsons predicted the epidemic.\",\n",
    "    \"Bill Gates predicted and simulated the COVID-19 pandemic.\",\n",
    "    \"Coronavirus was spread via bananas\",\n",
    "    \"Drinking alcohol can help fight coronavirus.\",\n",
    "    \"Steam therapy cures the coronavirus.\"\n",
    "]\n",
    "\n",
    "complex_sentences = [\n",
    "    \"A publication claims that Bill and Melinda Gates didn’t vaccine their kids.\",\n",
    "    \"Bill Gates said that the Catholic religion may have to be suspended forever because of the COVID-19 pandemic.\",\n",
    "    \"The Centers for Disease and Prevention has reduced the number of COVID-19 cases recorded in the U.S.\",\n",
    "    \"After announcing social isolation measures, governor of São Paulo, João Doria, appears at a party in the interior of the state.\",\n",
    "    \"Trupti Desai, a well known social activist from India, was arrested for illegally buying liquor during the COVID-19 lockdown.\"\n",
    "]"
   ],
   "metadata": {
    "collapsed": false,
    "pycharm": {
     "name": "#%%\n"
    }
   }
  },
  {
   "cell_type": "code",
   "execution_count": 10,
   "outputs": [],
   "source": [
    "def openie_extractor(sentence):\n",
    "    spos = []\n",
    "    try:\n",
    "        annotation = json.loads(stanford.annotate(sentence, properties=stanford_props))[\"sentences\"]\n",
    "    except json.decoder.JSONDecodeError as e:\n",
    "        print(e.msg)\n",
    "        return []\n",
    "    for sent in annotation:\n",
    "        for openie in sent['openie']:\n",
    "            spo = {\n",
    "                    \"subject\": openie['subject'],\n",
    "                    \"relation\": openie['relation'],\n",
    "                    \"object\": openie['object']\n",
    "            }\n",
    "            spos.append(spo)\n",
    "    return [spos]\n",
    "\n",
    "openie_simple_spos = [spos for sent in simple_sentences for spos in openie_extractor(sent)]\n",
    "openie_complex_spos = [spos for sent in complex_sentences for spos in openie_extractor(sent)]"
   ],
   "metadata": {
    "collapsed": false,
    "pycharm": {
     "name": "#%%\n"
    }
   }
  },
  {
   "cell_type": "code",
   "execution_count": 11,
   "outputs": [
    {
     "name": "stdout",
     "output_type": "stream",
     "text": [
      "[[{'object': 'epidemic', 'relation': 'predicted', 'subject': 'Simpsons'}],\n",
      " [{'object': 'COVID 19 pandemic',\n",
      "   'relation': 'predicted',\n",
      "   'subject': 'Bill Gates'}],\n",
      " [{'object': 'spread', 'relation': 'was', 'subject': 'Coronavirus'},\n",
      "  {'object': 'bananas',\n",
      "   'relation': 'was spread via',\n",
      "   'subject': 'Coronavirus'}],\n",
      " [],\n",
      " [{'object': 'coronavirus', 'relation': 'cures', 'subject': 'Steam therapy'}]]\n",
      "[[],\n",
      " [],\n",
      " [{'object': 'number recorded',\n",
      "   'relation': 'has reduced',\n",
      "   'subject': 'Centers'},\n",
      "  {'object': 'number', 'relation': 'has reduced', 'subject': 'Centers'},\n",
      "  {'object': 'number of COVID 19 cases recorded',\n",
      "   'relation': 'has reduced',\n",
      "   'subject': 'Centers'},\n",
      "  {'object': 'number of COVID 19 cases',\n",
      "   'relation': 'has reduced',\n",
      "   'subject': 'Centers'},\n",
      "  {'object': 'number of COVID 19 cases recorded in U.S.',\n",
      "   'relation': 'has reduced',\n",
      "   'subject': 'Centers'},\n",
      "  {'object': 'number recorded in U.S.',\n",
      "   'relation': 'has reduced',\n",
      "   'subject': 'Centers'},\n",
      "  {'object': 'Disease', 'relation': 'Centers for', 'subject': 'number'}],\n",
      " [{'object': 'party in interior',\n",
      "   'relation': 'appears at',\n",
      "   'subject': 'governor'},\n",
      "  {'object': 'party in interior of state',\n",
      "   'relation': 'appears at',\n",
      "   'subject': 'governor'},\n",
      "  {'object': 'party', 'relation': 'appears at', 'subject': 'governor'},\n",
      "  {'object': 'announcing isolation measures',\n",
      "   'relation': 'appears After',\n",
      "   'subject': 'governor'},\n",
      "  {'object': 'announcing social isolation measures',\n",
      "   'relation': 'appears After',\n",
      "   'subject': 'governor'},\n",
      "  {'object': 'interior of state', 'relation': 'is in', 'subject': 'party'},\n",
      "  {'object': 'social isolation measures',\n",
      "   'relation': 'appears After',\n",
      "   'subject': 'governor'},\n",
      "  {'object': 'isolation measures',\n",
      "   'relation': 'appears After',\n",
      "   'subject': 'governor'}],\n",
      " [{'object': 'India', 'relation': 'activist from', 'subject': 'Trupti Desai'},\n",
      "  {'object': 'arrested', 'relation': 'was', 'subject': 'Trupti Desai'},\n",
      "  {'object': 'arrested for buying liquor during COVID 19 lockdown',\n",
      "   'relation': 'was',\n",
      "   'subject': 'Trupti Desai'},\n",
      "  {'object': 'liquor',\n",
      "   'relation': 'was arrested for',\n",
      "   'subject': 'Trupti Desai'},\n",
      "  {'object': 'illegally buying liquor',\n",
      "   'relation': 'was arrested for',\n",
      "   'subject': 'Trupti Desai'},\n",
      "  {'object': 'buying liquor',\n",
      "   'relation': 'was arrested for',\n",
      "   'subject': 'Trupti Desai'},\n",
      "  {'object': 'COVID 19 lockdown',\n",
      "   'relation': 'was arrested during',\n",
      "   'subject': 'Trupti Desai'},\n",
      "  {'object': 'arrested for liquor during COVID 19 lockdown',\n",
      "   'relation': 'was',\n",
      "   'subject': 'Trupti Desai'},\n",
      "  {'object': 'arrested for illegally buying liquor during COVID 19 lockdown',\n",
      "   'relation': 'was',\n",
      "   'subject': 'Trupti Desai'}]]\n"
     ]
    }
   ],
   "source": [
    "pprint.pprint(openie_simple_spos)\n",
    "pprint.pprint(openie_complex_spos)"
   ],
   "metadata": {
    "collapsed": false,
    "pycharm": {
     "name": "#%%\n"
    }
   }
  },
  {
   "cell_type": "code",
   "execution_count": 12,
   "outputs": [],
   "source": [
    "def textacy_extractor(sentence):\n",
    "    spos = []\n",
    "    doc = textacy.make_spacy_doc(sentence, lang=\"en\")\n",
    "    svos = textacy.extract.subject_verb_object_triples(doc)\n",
    "    for svo in svos:\n",
    "        spo = {\n",
    "            \"subject\": svo[0],\n",
    "            \"relation\": svo[1],\n",
    "            \"object\": svo[2]\n",
    "        }\n",
    "        spos.append(spo)\n",
    "    return [spos]\n",
    "\n",
    "textacy_simple_spos = [spos for sent in simple_sentences for spos in textacy_extractor(sent)]\n",
    "textacy_complex_spos = [spos for sent in complex_sentences for spos in textacy_extractor(sent)]\n"
   ],
   "metadata": {
    "collapsed": false,
    "pycharm": {
     "name": "#%%\n"
    }
   }
  },
  {
   "cell_type": "code",
   "execution_count": 13,
   "outputs": [
    {
     "name": "stdout",
     "output_type": "stream",
     "text": [
      "[[{'object': epidemic, 'relation': predicted, 'subject': Simpsons}],\n",
      " [],\n",
      " [],\n",
      " [{'object': fight, 'relation': can help, 'subject': Drinking alcohol}],\n",
      " [{'object': coronavirus, 'relation': cures, 'subject': Steam therapy}]]\n",
      "[[{'object': kids, 'relation': didn’t vaccine, 'subject': Gates}],\n",
      " [],\n",
      " [{'object': number, 'relation': has reduced, 'subject': Centers}],\n",
      " [],\n",
      " []]\n"
     ]
    }
   ],
   "source": [
    "pprint.pprint(textacy_simple_spos)\n",
    "pprint.pprint(textacy_complex_spos)"
   ],
   "metadata": {
    "collapsed": false,
    "pycharm": {
     "name": "#%%\n"
    }
   }
  },
  {
   "cell_type": "code",
   "execution_count": 17,
   "outputs": [],
   "source": [
    "def iit_extractor(sentence):\n",
    "    spos = []\n",
    "    extractions = iit.extract(sentence)\n",
    "    for extraction in extractions:\n",
    "        spo = {\n",
    "            \"subject\": extraction['extraction']['arg1']['text'],\n",
    "            \"relation\": extraction['extraction']['rel']['text'],\n",
    "            \"object\": [obj['text'] for obj in extraction['extraction']['arg2s']]\n",
    "        }\n",
    "        spos.append(spo)\n",
    "    return [spos]"
   ],
   "metadata": {
    "collapsed": false,
    "pycharm": {
     "name": "#%%\n"
    }
   }
  },
  {
   "cell_type": "code",
   "execution_count": 18,
   "outputs": [],
   "source": [
    "iit_simple_spos = [spos for sent in simple_sentences for spos in iit_extractor(sent)]\n",
    "iit_complex_spos = [spos for sent in complex_sentences for spos in iit_extractor(sent)]"
   ],
   "metadata": {
    "collapsed": false,
    "pycharm": {
     "name": "#%%\n"
    }
   }
  },
  {
   "cell_type": "code",
   "execution_count": 19,
   "outputs": [
    {
     "name": "stdout",
     "output_type": "stream",
     "text": [
      "[[{'object': ['the epidemic'],\n",
      "   'relation': 'predicted',\n",
      "   'subject': 'The Simpsons'}],\n",
      " [{'object': ['19 pandemic'], 'relation': 'simulated', 'subject': 'Bill'},\n",
      "  {'object': ['the COVID - 19 pandemic'],\n",
      "   'relation': 'simulated',\n",
      "   'subject': 'Bill'},\n",
      "  {'object': [], 'relation': 'predicted', 'subject': 'Bill Gates'}],\n",
      " [{'object': [], 'relation': 'was spread', 'subject': 'Coronavirus'}],\n",
      " [{'object': ['fight coronavirus'],\n",
      "   'relation': 'can help',\n",
      "   'subject': 'Drinking alcohol'}],\n",
      " [{'object': ['the coronavirus'],\n",
      "   'relation': 'cures',\n",
      "   'subject': 'Steam therapy'}]]\n",
      "[[{'object': ['their kids'],\n",
      "   'relation': \"did n't vaccine\",\n",
      "   'subject': 'Melinda Gates'},\n",
      "  {'object': [\"that Melinda Gates did n't vaccine their kids\"],\n",
      "   'relation': 'claims',\n",
      "   'subject': 'A publication'},\n",
      "  {'object': ['their kids'],\n",
      "   'relation': \"did n't vaccine\",\n",
      "   'subject': 'Bill Gates'},\n",
      "  {'object': [\"that Bill Gates did n't vaccine their kids\"],\n",
      "   'relation': 'claims',\n",
      "   'subject': 'A publication'}],\n",
      " [{'object': ['that the Catholic religion may have to be suspended forever '\n",
      "              'because of the COVID-19 pandemic'],\n",
      "   'relation': 'said',\n",
      "   'subject': 'Bill Gates'},\n",
      "  {'object': ['forever', 'because of the COVID-19 pandemic'],\n",
      "   'relation': 'to be suspended',\n",
      "   'subject': 'the Catholic religion'}],\n",
      " [{'object': ['the number of COVID - 19 cases'],\n",
      "   'relation': 'has reduced',\n",
      "   'subject': 'The Centers for Prevention'},\n",
      "  {'object': ['in the U.S.'],\n",
      "   'relation': 'recorded',\n",
      "   'subject': 'COVID - 19 cases'},\n",
      "  {'object': ['the number of COVID - 19 cases'],\n",
      "   'relation': 'has reduced',\n",
      "   'subject': 'The Centers for Disease'}],\n",
      " [{'object': ['at a party in the interior of the state',\n",
      "              'After announcing social isolation measures'],\n",
      "   'relation': 'appears',\n",
      "   'subject': 'governor of São Paulo'}],\n",
      " [{'object': ['liquor', 'during the COVID-19 lockdown'],\n",
      "   'relation': 'for illegally buying',\n",
      "   'subject': 'Trupti Desai'},\n",
      "  {'object': ['for illegally buying liquor during the COVID-19 lockdown'],\n",
      "   'relation': 'was arrested',\n",
      "   'subject': 'Trupti Desai'}]]\n"
     ]
    }
   ],
   "source": [
    "pprint.pprint(iit_simple_spos)\n",
    "pprint.pprint(iit_complex_spos)"
   ],
   "metadata": {
    "collapsed": false,
    "pycharm": {
     "name": "#%%\n"
    }
   }
  },
  {
   "cell_type": "code",
   "execution_count": 22,
   "outputs": [],
   "source": [
    "my_spos = [\n",
    "    [\n",
    "        {\"subject\": \"The Simpsons\", \"relation\": \"predicted\", \"object\": \"the epidemic\"}\n",
    "    ],\n",
    "    [\n",
    "        {\"subject\": \"Bill Gates\", \"relation\": \"predicted\", \"object\": \"the COVID-19 pandemic\"},\n",
    "        {\"subject\": \"Bill Gates\", \"relation\": \"simulated\", \"object\": \"the COVID-19 pandemic\"}\n",
    "    ],\n",
    "    [\n",
    "        {\"subject\": \"Coronavirus\", \"relation\": \"was\", \"object\": \"spread\"},\n",
    "        {\"subject\": \"Coronavirus\", \"relation\": \"was spread via\", \"object\": \"bananas\"}\n",
    "    ],\n",
    "    [\n",
    "        {\"subject\": \"Drinking alcohol\", \"relation\": \"can help\", \"object\": \"fight Coronavirus\"},\n",
    "        {\"subject\": \"Drinking alcohol\", \"relation\": \"can help fight\", \"object\": \"Coronavirus\"},\n",
    "    ],\n",
    "    [\n",
    "        {\"subject\": \"Steam therapy\", \"relation\": \"cures\", \"object\": \"Coronavirus\"}\n",
    "    ],\n",
    "    [\n",
    "        {\"subject\": \"publication\", \"relation\": \"claims\", \"object\": \"Bill and Melinda Gates didn’t vaccine their kids\"},\n",
    "        {\"subject\": \"Bill and Melinda Gates\", \"relation\": \"didn't vaccine\", \"object\": \"their kids\"},\n",
    "        {\"subject\": \"Bill\", \"relation\": \"didn't vaccine\", \"object\": \"their kids\"},\n",
    "        {\"subject\": \"Melinda Gates\", \"relation\": \"didn't vaccine\", \"object\": \"their kids\"},\n",
    "    ],\n",
    "    [\n",
    "        {\"subject\": \"Bill Gates\", \"relation\": \"said\", \"object\": \"the Catholic religion may have to be suspended forever\"},\n",
    "        {\"subject\": \"Catholic religion\", \"relation\": \"may have to be\", \"object\": \"suspended forever\"}\n",
    "    ],\n",
    "    [\n",
    "        {\"subject\": \"Centers for Disease and Prevention\", \"relation\": \"has reduced\", \"object\": \"the number of COVID-19 cases recorded in the U.S\"},\n",
    "    ],\n",
    "    [\n",
    "        {\"subject\": \"governor of São Paolo\", \"relation\": \"appears at\", \"object\": \"a party in the interior of the state\"},\n",
    "        {\"subject\": \"João Doria\", \"relation\": \"appears at\", \"object\": \"a party in the interior of the state\"},\n",
    "        {\"subject\": \"João Doria\", \"relation\": \"governor\", \"object\": \"São Paolo\"},\n",
    "        {\"subject\": \"João Doria\", \"relation\": \"is\", \"object\": \"governor of São Paolo\"}\n",
    "    ],\n",
    "    [\n",
    "        {\"subject\": \"Trupti Desai\", \"relation\": \"social activist from\", \"object\": \"India\"},\n",
    "        {\"subject\": \"Trupti Desai\", \"relation\": \"is\", \"object\": \"social activist from India\"},\n",
    "        {\"subject\": \"Trupti Desai\", \"relation\": \"was\", \"object\": \"arrested for illegally buying liquor\"},\n",
    "        {\"subject\": \"Trupti Desai\", \"relation\": \"arrested\", \"object\": \"for illegally buying liquor\"},\n",
    "    ],\n",
    "]"
   ],
   "metadata": {
    "collapsed": false,
    "pycharm": {
     "name": "#%%\n"
    }
   }
  },
  {
   "cell_type": "code",
   "execution_count": 23,
   "outputs": [],
   "source": [
    "df = pd.DataFrame({'text': simple_sentences + complex_sentences})\n",
    "df['openie'] = openie_simple_spos + openie_complex_spos\n",
    "df['textacy'] = textacy_simple_spos + textacy_complex_spos\n",
    "df['iit'] = iit_simple_spos + iit_complex_spos\n",
    "df['my own'] = my_spos"
   ],
   "metadata": {
    "collapsed": false,
    "pycharm": {
     "name": "#%%\n"
    }
   }
  },
  {
   "cell_type": "code",
   "execution_count": 21,
   "outputs": [
    {
     "name": "stderr",
     "output_type": "stream",
     "text": [
      "<ipython-input-21-15366938b18d>:1: FutureWarning: Passing a negative integer is deprecated in version 1.0 and will not be supported in future version. Instead, use None to not limit the column width.\n",
      "  pd.set_option('display.max_colwidth', -1)\n"
     ]
    },
    {
     "data": {
      "text/plain": "                                                                                                                              text  \\\n0  The Simpsons predicted the epidemic.                                                                                              \n1  Bill Gates predicted and simulated the COVID-19 pandemic.                                                                         \n2  Coronavirus was spread via bananas                                                                                                \n3  Drinking alcohol can help fight coronavirus.                                                                                      \n4  Steam therapy cures the coronavirus.                                                                                              \n5  A publication claims that Bill and Melinda Gates didn’t vaccine their kids.                                                       \n6  Bill Gates said that the Catholic religion may have to be suspended forever because of the COVID-19 pandemic.                     \n7  The Centers for Disease and Prevention has reduced the number of COVID-19 cases recorded in the U.S.                              \n8  After announcing social isolation measures, governor of São Paulo, João Doria, appears at a party in the interior of the state.   \n9  Trupti Desai, a well known social activist from India, was arrested for illegally buying liquor during the COVID-19 lockdown.     \n\n                                                                                                                                                                                                                                                                                                                                                                                                                                                                                                                                                                                                                                                                                                                                                                                                                                                                                openie  \\\n0  [{'subject': 'Simpsons', 'relation': 'predicted', 'object': 'epidemic'}]                                                                                                                                                                                                                                                                                                                                                                                                                                                                                                                                                                                                                                                                                                                                                                                                              \n1  [{'subject': 'Bill Gates', 'relation': 'predicted', 'object': 'COVID 19 pandemic'}]                                                                                                                                                                                                                                                                                                                                                                                                                                                                                                                                                                                                                                                                                                                                                                                                   \n2  [{'subject': 'Coronavirus', 'relation': 'was', 'object': 'spread'}, {'subject': 'Coronavirus', 'relation': 'was spread via', 'object': 'bananas'}]                                                                                                                                                                                                                                                                                                                                                                                                                                                                                                                                                                                                                                                                                                                                    \n3  []                                                                                                                                                                                                                                                                                                                                                                                                                                                                                                                                                                                                                                                                                                                                                                                                                                                                                    \n4  [{'subject': 'Steam therapy', 'relation': 'cures', 'object': 'coronavirus'}]                                                                                                                                                                                                                                                                                                                                                                                                                                                                                                                                                                                                                                                                                                                                                                                                          \n5  []                                                                                                                                                                                                                                                                                                                                                                                                                                                                                                                                                                                                                                                                                                                                                                                                                                                                                    \n6  []                                                                                                                                                                                                                                                                                                                                                                                                                                                                                                                                                                                                                                                                                                                                                                                                                                                                                    \n7  [{'subject': 'Centers', 'relation': 'has reduced', 'object': 'number recorded'}, {'subject': 'Centers', 'relation': 'has reduced', 'object': 'number'}, {'subject': 'Centers', 'relation': 'has reduced', 'object': 'number of COVID 19 cases recorded'}, {'subject': 'Centers', 'relation': 'has reduced', 'object': 'number of COVID 19 cases'}, {'subject': 'Centers', 'relation': 'has reduced', 'object': 'number of COVID 19 cases recorded in U.S.'}, {'subject': 'Centers', 'relation': 'has reduced', 'object': 'number recorded in U.S.'}, {'subject': 'number', 'relation': 'Centers for', 'object': 'Disease'}]                                                                                                                                                                                                                                                           \n8  [{'subject': 'governor', 'relation': 'appears at', 'object': 'party in interior'}, {'subject': 'governor', 'relation': 'appears at', 'object': 'party in interior of state'}, {'subject': 'governor', 'relation': 'appears at', 'object': 'party'}, {'subject': 'governor', 'relation': 'appears After', 'object': 'announcing isolation measures'}, {'subject': 'governor', 'relation': 'appears After', 'object': 'announcing social isolation measures'}, {'subject': 'party', 'relation': 'is in', 'object': 'interior of state'}, {'subject': 'governor', 'relation': 'appears After', 'object': 'social isolation measures'}, {'subject': 'governor', 'relation': 'appears After', 'object': 'isolation measures'}]                                                                                                                                                             \n9  [{'subject': 'Trupti Desai', 'relation': 'activist from', 'object': 'India'}, {'subject': 'Trupti Desai', 'relation': 'was', 'object': 'arrested'}, {'subject': 'Trupti Desai', 'relation': 'was', 'object': 'arrested for buying liquor during COVID 19 lockdown'}, {'subject': 'Trupti Desai', 'relation': 'was arrested for', 'object': 'liquor'}, {'subject': 'Trupti Desai', 'relation': 'was arrested for', 'object': 'illegally buying liquor'}, {'subject': 'Trupti Desai', 'relation': 'was arrested for', 'object': 'buying liquor'}, {'subject': 'Trupti Desai', 'relation': 'was arrested during', 'object': 'COVID 19 lockdown'}, {'subject': 'Trupti Desai', 'relation': 'was', 'object': 'arrested for liquor during COVID 19 lockdown'}, {'subject': 'Trupti Desai', 'relation': 'was', 'object': 'arrested for illegally buying liquor during COVID 19 lockdown'}]   \n\n                                                                          textacy  \\\n0  [{'subject': (Simpsons), 'relation': (predicted), 'object': (epidemic)}]         \n1  []                                                                               \n2  []                                                                               \n3  [{'subject': (Drinking, alcohol), 'relation': (can, help), 'object': (fight)}]   \n4  [{'subject': (Steam, therapy), 'relation': (cures), 'object': (coronavirus)}]    \n5  [{'subject': (Gates), 'relation': (did, n’t, vaccine), 'object': (kids)}]        \n6  []                                                                               \n7  [{'subject': (Centers), 'relation': (has, reduced), 'object': (number)}]         \n8  []                                                                               \n9  []                                                                               \n\n                                                                                                                                                                                                                                                                                                                                                                                                          iit  \\\n0  [{'subject': 'The Simpsons', 'relation': 'predicted', 'object': ['the epidemic']}]                                                                                                                                                                                                                                                                                                                           \n1  [{'subject': 'Bill', 'relation': 'simulated', 'object': ['19 pandemic']}, {'subject': 'Bill', 'relation': 'simulated', 'object': ['the COVID - 19 pandemic']}, {'subject': 'Bill Gates', 'relation': 'predicted', 'object': []}]                                                                                                                                                                             \n2  [{'subject': 'Coronavirus', 'relation': 'was spread', 'object': []}]                                                                                                                                                                                                                                                                                                                                         \n3  [{'subject': 'Drinking alcohol', 'relation': 'can help', 'object': ['fight coronavirus']}]                                                                                                                                                                                                                                                                                                                   \n4  [{'subject': 'Steam therapy', 'relation': 'cures', 'object': ['the coronavirus']}]                                                                                                                                                                                                                                                                                                                           \n5  [{'subject': 'Melinda Gates', 'relation': 'did n't vaccine', 'object': ['their kids']}, {'subject': 'A publication', 'relation': 'claims', 'object': ['that Melinda Gates did n't vaccine their kids']}, {'subject': 'Bill Gates', 'relation': 'did n't vaccine', 'object': ['their kids']}, {'subject': 'A publication', 'relation': 'claims', 'object': ['that Bill Gates did n't vaccine their kids']}]   \n6  [{'subject': 'Bill Gates', 'relation': 'said', 'object': ['that the Catholic religion may have to be suspended forever because of the COVID-19 pandemic']}, {'subject': 'the Catholic religion', 'relation': 'to be suspended', 'object': ['forever', 'because of the COVID-19 pandemic']}]                                                                                                                  \n7  [{'subject': 'The Centers for Prevention', 'relation': 'has reduced', 'object': ['the number of COVID - 19 cases']}, {'subject': 'COVID - 19 cases', 'relation': 'recorded', 'object': ['in the U.S.']}, {'subject': 'The Centers for Disease', 'relation': 'has reduced', 'object': ['the number of COVID - 19 cases']}]                                                                                    \n8  [{'subject': 'governor of São Paulo', 'relation': 'appears', 'object': ['at a party in the interior of the state', 'After announcing social isolation measures']}]                                                                                                                                                                                                                                           \n9  [{'subject': 'Trupti Desai', 'relation': 'for illegally buying', 'object': ['liquor', 'during the COVID-19 lockdown']}, {'subject': 'Trupti Desai', 'relation': 'was arrested', 'object': ['for illegally buying liquor during the COVID-19 lockdown']}]                                                                                                                                                     \n\n                                                                                                                                                                                                                                                                                                                                                                                my own  \n0  [{'subject': 'The Simpsons', 'relation': 'predicted', 'object': 'the epidemic'}]                                                                                                                                                                                                                                                                                                     \n1  [{'subject': 'Bill Gates', 'relation': 'predicted', 'object': 'the COVID-19 pandemic'}, {'subject': 'Bill Gates', 'relation': 'simulated', 'object': 'the COVID-19 pandemic'}]                                                                                                                                                                                                       \n2  [{'subject': 'Coronavirus', 'relation': 'was', 'object': 'spread'}, {'subject': 'Coronavirus', 'relation': 'was spread via', 'object': 'bananas'}]                                                                                                                                                                                                                                   \n3  [{'subject': 'Drinking alcohol', 'relation': 'can help', 'object': 'fight Coronavirus'}, {'subject': 'Drinking alcohol', 'relation': 'can help fight', 'object': 'Coronavirus'}]                                                                                                                                                                                                     \n4  [{'subject': 'Steam therapy', 'relation': 'cures', 'object': 'fight Coronavirus'}]                                                                                                                                                                                                                                                                                                   \n5  [{'subject': 'publication', 'relation': 'claims', 'object': 'Bill and Melinda Gates didn’t vaccine their kids'}, {'subject': 'Bill and Melinda Gates', 'relation': 'didn't vaccine', 'object': 'their kids'}, {'subject': 'Bill', 'relation': 'didn't vaccine', 'object': 'their kids'}, {'subject': 'Melinda Gates', 'relation': 'didn't vaccine', 'object': 'their kids'}]         \n6  [{'subject': 'Bill Gates', 'relation': 'said', 'object': 'the Catholic religion may have to be suspended forever'}, {'subject': 'Catholic religion', 'relation': 'may have to be', 'object': 'suspended forever'}]                                                                                                                                                                   \n7  [{'subject': 'Centers for Disease and Prevention', 'relation': 'has reduced', 'object': 'the number of COVID-19 cases recorded in the U.S'}]                                                                                                                                                                                                                                         \n8  [{'subject': 'governor of São Paolo', 'relation': 'appears at', 'object': 'a party in the interior of the state'}, {'subject': 'João Doria', 'relation': 'appears at', 'object': 'a party in the interior of the state'}, {'subject': 'João Doria', 'relation': 'governor', 'object': 'São Paolo'}, {'subject': 'João Doria', 'relation': 'is', 'object': 'governor of São Paolo'}]  \n9  [{'subject': 'Trupti Desai', 'relation': 'social activist from', 'object': 'India'}, {'subject': 'Trupti Desai', 'relation': 'is', 'object': 'social activist from India'}, {'subject': 'Trupti Desai', 'relation': 'was', 'object': 'arrested for illegally buying liquor'}, {'subject': 'Trupti Desai', 'relation': 'arrested', 'object': 'for illegally buying liquor'}]          ",
      "text/html": "<div>\n<style scoped>\n    .dataframe tbody tr th:only-of-type {\n        vertical-align: middle;\n    }\n\n    .dataframe tbody tr th {\n        vertical-align: top;\n    }\n\n    .dataframe thead th {\n        text-align: right;\n    }\n</style>\n<table border=\"1\" class=\"dataframe\">\n  <thead>\n    <tr style=\"text-align: right;\">\n      <th></th>\n      <th>text</th>\n      <th>openie</th>\n      <th>textacy</th>\n      <th>iit</th>\n      <th>my own</th>\n    </tr>\n  </thead>\n  <tbody>\n    <tr>\n      <th>0</th>\n      <td>The Simpsons predicted the epidemic.</td>\n      <td>[{'subject': 'Simpsons', 'relation': 'predicted', 'object': 'epidemic'}]</td>\n      <td>[{'subject': (Simpsons), 'relation': (predicted), 'object': (epidemic)}]</td>\n      <td>[{'subject': 'The Simpsons', 'relation': 'predicted', 'object': ['the epidemic']}]</td>\n      <td>[{'subject': 'The Simpsons', 'relation': 'predicted', 'object': 'the epidemic'}]</td>\n    </tr>\n    <tr>\n      <th>1</th>\n      <td>Bill Gates predicted and simulated the COVID-19 pandemic.</td>\n      <td>[{'subject': 'Bill Gates', 'relation': 'predicted', 'object': 'COVID 19 pandemic'}]</td>\n      <td>[]</td>\n      <td>[{'subject': 'Bill', 'relation': 'simulated', 'object': ['19 pandemic']}, {'subject': 'Bill', 'relation': 'simulated', 'object': ['the COVID - 19 pandemic']}, {'subject': 'Bill Gates', 'relation': 'predicted', 'object': []}]</td>\n      <td>[{'subject': 'Bill Gates', 'relation': 'predicted', 'object': 'the COVID-19 pandemic'}, {'subject': 'Bill Gates', 'relation': 'simulated', 'object': 'the COVID-19 pandemic'}]</td>\n    </tr>\n    <tr>\n      <th>2</th>\n      <td>Coronavirus was spread via bananas</td>\n      <td>[{'subject': 'Coronavirus', 'relation': 'was', 'object': 'spread'}, {'subject': 'Coronavirus', 'relation': 'was spread via', 'object': 'bananas'}]</td>\n      <td>[]</td>\n      <td>[{'subject': 'Coronavirus', 'relation': 'was spread', 'object': []}]</td>\n      <td>[{'subject': 'Coronavirus', 'relation': 'was', 'object': 'spread'}, {'subject': 'Coronavirus', 'relation': 'was spread via', 'object': 'bananas'}]</td>\n    </tr>\n    <tr>\n      <th>3</th>\n      <td>Drinking alcohol can help fight coronavirus.</td>\n      <td>[]</td>\n      <td>[{'subject': (Drinking, alcohol), 'relation': (can, help), 'object': (fight)}]</td>\n      <td>[{'subject': 'Drinking alcohol', 'relation': 'can help', 'object': ['fight coronavirus']}]</td>\n      <td>[{'subject': 'Drinking alcohol', 'relation': 'can help', 'object': 'fight Coronavirus'}, {'subject': 'Drinking alcohol', 'relation': 'can help fight', 'object': 'Coronavirus'}]</td>\n    </tr>\n    <tr>\n      <th>4</th>\n      <td>Steam therapy cures the coronavirus.</td>\n      <td>[{'subject': 'Steam therapy', 'relation': 'cures', 'object': 'coronavirus'}]</td>\n      <td>[{'subject': (Steam, therapy), 'relation': (cures), 'object': (coronavirus)}]</td>\n      <td>[{'subject': 'Steam therapy', 'relation': 'cures', 'object': ['the coronavirus']}]</td>\n      <td>[{'subject': 'Steam therapy', 'relation': 'cures', 'object': 'fight Coronavirus'}]</td>\n    </tr>\n    <tr>\n      <th>5</th>\n      <td>A publication claims that Bill and Melinda Gates didn’t vaccine their kids.</td>\n      <td>[]</td>\n      <td>[{'subject': (Gates), 'relation': (did, n’t, vaccine), 'object': (kids)}]</td>\n      <td>[{'subject': 'Melinda Gates', 'relation': 'did n't vaccine', 'object': ['their kids']}, {'subject': 'A publication', 'relation': 'claims', 'object': ['that Melinda Gates did n't vaccine their kids']}, {'subject': 'Bill Gates', 'relation': 'did n't vaccine', 'object': ['their kids']}, {'subject': 'A publication', 'relation': 'claims', 'object': ['that Bill Gates did n't vaccine their kids']}]</td>\n      <td>[{'subject': 'publication', 'relation': 'claims', 'object': 'Bill and Melinda Gates didn’t vaccine their kids'}, {'subject': 'Bill and Melinda Gates', 'relation': 'didn't vaccine', 'object': 'their kids'}, {'subject': 'Bill', 'relation': 'didn't vaccine', 'object': 'their kids'}, {'subject': 'Melinda Gates', 'relation': 'didn't vaccine', 'object': 'their kids'}]</td>\n    </tr>\n    <tr>\n      <th>6</th>\n      <td>Bill Gates said that the Catholic religion may have to be suspended forever because of the COVID-19 pandemic.</td>\n      <td>[]</td>\n      <td>[]</td>\n      <td>[{'subject': 'Bill Gates', 'relation': 'said', 'object': ['that the Catholic religion may have to be suspended forever because of the COVID-19 pandemic']}, {'subject': 'the Catholic religion', 'relation': 'to be suspended', 'object': ['forever', 'because of the COVID-19 pandemic']}]</td>\n      <td>[{'subject': 'Bill Gates', 'relation': 'said', 'object': 'the Catholic religion may have to be suspended forever'}, {'subject': 'Catholic religion', 'relation': 'may have to be', 'object': 'suspended forever'}]</td>\n    </tr>\n    <tr>\n      <th>7</th>\n      <td>The Centers for Disease and Prevention has reduced the number of COVID-19 cases recorded in the U.S.</td>\n      <td>[{'subject': 'Centers', 'relation': 'has reduced', 'object': 'number recorded'}, {'subject': 'Centers', 'relation': 'has reduced', 'object': 'number'}, {'subject': 'Centers', 'relation': 'has reduced', 'object': 'number of COVID 19 cases recorded'}, {'subject': 'Centers', 'relation': 'has reduced', 'object': 'number of COVID 19 cases'}, {'subject': 'Centers', 'relation': 'has reduced', 'object': 'number of COVID 19 cases recorded in U.S.'}, {'subject': 'Centers', 'relation': 'has reduced', 'object': 'number recorded in U.S.'}, {'subject': 'number', 'relation': 'Centers for', 'object': 'Disease'}]</td>\n      <td>[{'subject': (Centers), 'relation': (has, reduced), 'object': (number)}]</td>\n      <td>[{'subject': 'The Centers for Prevention', 'relation': 'has reduced', 'object': ['the number of COVID - 19 cases']}, {'subject': 'COVID - 19 cases', 'relation': 'recorded', 'object': ['in the U.S.']}, {'subject': 'The Centers for Disease', 'relation': 'has reduced', 'object': ['the number of COVID - 19 cases']}]</td>\n      <td>[{'subject': 'Centers for Disease and Prevention', 'relation': 'has reduced', 'object': 'the number of COVID-19 cases recorded in the U.S'}]</td>\n    </tr>\n    <tr>\n      <th>8</th>\n      <td>After announcing social isolation measures, governor of São Paulo, João Doria, appears at a party in the interior of the state.</td>\n      <td>[{'subject': 'governor', 'relation': 'appears at', 'object': 'party in interior'}, {'subject': 'governor', 'relation': 'appears at', 'object': 'party in interior of state'}, {'subject': 'governor', 'relation': 'appears at', 'object': 'party'}, {'subject': 'governor', 'relation': 'appears After', 'object': 'announcing isolation measures'}, {'subject': 'governor', 'relation': 'appears After', 'object': 'announcing social isolation measures'}, {'subject': 'party', 'relation': 'is in', 'object': 'interior of state'}, {'subject': 'governor', 'relation': 'appears After', 'object': 'social isolation measures'}, {'subject': 'governor', 'relation': 'appears After', 'object': 'isolation measures'}]</td>\n      <td>[]</td>\n      <td>[{'subject': 'governor of São Paulo', 'relation': 'appears', 'object': ['at a party in the interior of the state', 'After announcing social isolation measures']}]</td>\n      <td>[{'subject': 'governor of São Paolo', 'relation': 'appears at', 'object': 'a party in the interior of the state'}, {'subject': 'João Doria', 'relation': 'appears at', 'object': 'a party in the interior of the state'}, {'subject': 'João Doria', 'relation': 'governor', 'object': 'São Paolo'}, {'subject': 'João Doria', 'relation': 'is', 'object': 'governor of São Paolo'}]</td>\n    </tr>\n    <tr>\n      <th>9</th>\n      <td>Trupti Desai, a well known social activist from India, was arrested for illegally buying liquor during the COVID-19 lockdown.</td>\n      <td>[{'subject': 'Trupti Desai', 'relation': 'activist from', 'object': 'India'}, {'subject': 'Trupti Desai', 'relation': 'was', 'object': 'arrested'}, {'subject': 'Trupti Desai', 'relation': 'was', 'object': 'arrested for buying liquor during COVID 19 lockdown'}, {'subject': 'Trupti Desai', 'relation': 'was arrested for', 'object': 'liquor'}, {'subject': 'Trupti Desai', 'relation': 'was arrested for', 'object': 'illegally buying liquor'}, {'subject': 'Trupti Desai', 'relation': 'was arrested for', 'object': 'buying liquor'}, {'subject': 'Trupti Desai', 'relation': 'was arrested during', 'object': 'COVID 19 lockdown'}, {'subject': 'Trupti Desai', 'relation': 'was', 'object': 'arrested for liquor during COVID 19 lockdown'}, {'subject': 'Trupti Desai', 'relation': 'was', 'object': 'arrested for illegally buying liquor during COVID 19 lockdown'}]</td>\n      <td>[]</td>\n      <td>[{'subject': 'Trupti Desai', 'relation': 'for illegally buying', 'object': ['liquor', 'during the COVID-19 lockdown']}, {'subject': 'Trupti Desai', 'relation': 'was arrested', 'object': ['for illegally buying liquor during the COVID-19 lockdown']}]</td>\n      <td>[{'subject': 'Trupti Desai', 'relation': 'social activist from', 'object': 'India'}, {'subject': 'Trupti Desai', 'relation': 'is', 'object': 'social activist from India'}, {'subject': 'Trupti Desai', 'relation': 'was', 'object': 'arrested for illegally buying liquor'}, {'subject': 'Trupti Desai', 'relation': 'arrested', 'object': 'for illegally buying liquor'}]</td>\n    </tr>\n  </tbody>\n</table>\n</div>"
     },
     "metadata": {},
     "output_type": "display_data"
    }
   ],
   "source": [
    "pd.set_option('display.max_colwidth', -1)\n",
    "display(df)"
   ],
   "metadata": {
    "collapsed": false,
    "pycharm": {
     "name": "#%%\n"
    }
   }
  }
 ],
 "metadata": {
  "kernelspec": {
   "display_name": "Python 3",
   "language": "python",
   "name": "python3"
  },
  "language_info": {
   "codemirror_mode": {
    "name": "ipython",
    "version": 2
   },
   "file_extension": ".py",
   "mimetype": "text/x-python",
   "name": "python",
   "nbconvert_exporter": "python",
   "pygments_lexer": "ipython2",
   "version": "2.7.6"
  }
 },
 "nbformat": 4,
 "nbformat_minor": 0
}