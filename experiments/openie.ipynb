{
 "cells": [
  {
   "cell_type": "code",
   "execution_count": 2,
   "metadata": {
    "collapsed": true,
    "pycharm": {
     "name": "#%%\n"
    }
   },
   "outputs": [],
   "source": [
    "from stanfordcorenlp import StanfordCoreNLP\n",
    "import json"
   ]
  },
  {
   "cell_type": "code",
   "execution_count": 5,
   "outputs": [
    {
     "name": "stdout",
     "output_type": "stream",
     "text": [
      "{'subject': 'hot mic', 'subjectSpan': [4, 6], 'relation': 'delivering boxes for', 'relationSpan': [6, 9], 'object': 'PR stunt', 'objectSpan': [13, 15]}\n",
      "{'subject': 'mic', 'subjectSpan': [5, 6], 'relation': 'delivering', 'relationSpan': [6, 7], 'object': 'boxes', 'objectSpan': [8, 9]}\n",
      "{'subject': 'hot mic', 'subjectSpan': [4, 6], 'relation': 'empty boxes of', 'relationSpan': [7, 10], 'object': 'PPE', 'objectSpan': [10, 11]}\n",
      "{'subject': 'mic', 'subjectSpan': [5, 6], 'relation': 'delivering', 'relationSpan': [6, 7], 'object': 'empty boxes', 'objectSpan': [7, 9]}\n",
      "{'subject': 'hot mic', 'subjectSpan': [4, 6], 'relation': 'delivering', 'relationSpan': [6, 7], 'object': 'empty boxes of PPE', 'objectSpan': [7, 11]}\n",
      "{'subject': 'hot mic', 'subjectSpan': [4, 6], 'relation': 'delivering', 'relationSpan': [6, 7], 'object': 'boxes of PPE', 'objectSpan': [8, 11]}\n",
      "{'subject': 'mic', 'subjectSpan': [5, 6], 'relation': 'delivering', 'relationSpan': [6, 7], 'object': 'boxes of PPE', 'objectSpan': [8, 11]}\n",
      "{'subject': 'hot mic', 'subjectSpan': [4, 6], 'relation': 'delivering', 'relationSpan': [6, 7], 'object': 'empty boxes', 'objectSpan': [7, 9]}\n",
      "{'subject': 'hot mic', 'subjectSpan': [4, 6], 'relation': 'boxes of', 'relationSpan': [8, 10], 'object': 'PPE', 'objectSpan': [10, 11]}\n",
      "{'subject': 'mic', 'subjectSpan': [5, 6], 'relation': 'delivering', 'relationSpan': [6, 7], 'object': 'empty boxes of PPE', 'objectSpan': [7, 11]}\n",
      "{'subject': 'mic', 'subjectSpan': [5, 6], 'relation': 'empty boxes of', 'relationSpan': [7, 10], 'object': 'PPE', 'objectSpan': [10, 11]}\n",
      "{'subject': 'hot mic', 'subjectSpan': [4, 6], 'relation': 'delivering', 'relationSpan': [6, 7], 'object': 'boxes', 'objectSpan': [8, 9]}\n",
      "{'subject': 'mic', 'subjectSpan': [5, 6], 'relation': 'delivering boxes for', 'relationSpan': [6, 9], 'object': 'PR stunt', 'objectSpan': [13, 15]}\n",
      "{'subject': 'mic', 'subjectSpan': [5, 6], 'relation': 'boxes of', 'relationSpan': [8, 10], 'object': 'PPE', 'objectSpan': [10, 11]}\n"
     ]
    }
   ],
   "source": [
    "nlp = StanfordCoreNLP(r'C:\\Users\\aandi\\Documents\\Uni\\Final Year\\FYP Code\\stanford-corenlp-4.2.0')\n",
    "# sentence = 'Barack Obama was born in Hawaii. He attended school in Jakarta.'\n",
    "sentence = 'Mike Pence caught on hot mic delivering empty boxes of PPE for a PR stunt.'\n",
    "props={'annotators': 'openie', 'pipelineLanguage': 'en', 'outputFormat': 'json'}\n",
    "\n",
    "annotation = json.loads(nlp.annotate(sentence, properties=props))\n",
    "for sentence in annotation['sentences']:\n",
    "    for spo in sentence['openie']:\n",
    "        print(spo)\n",
    "\n",
    "nlp.close()"
   ],
   "metadata": {
    "collapsed": false,
    "pycharm": {
     "name": "#%%\n"
    }
   }
  },
  {
   "cell_type": "code",
   "execution_count": 4,
   "outputs": [
    {
     "name": "stdout",
     "output_type": "stream",
     "text": [
      "{'sentences': [{'index': 0, 'basicDependencies': [{'dep': 'ROOT', 'governor': 0, 'governorGloss': 'ROOT', 'dependent': 4, 'dependentGloss': 'born'}, {'dep': 'compound', 'governor': 2, 'governorGloss': 'Obama', 'dependent': 1, 'dependentGloss': 'Barack'}, {'dep': 'nsubj:pass', 'governor': 4, 'governorGloss': 'born', 'dependent': 2, 'dependentGloss': 'Obama'}, {'dep': 'aux:pass', 'governor': 4, 'governorGloss': 'born', 'dependent': 3, 'dependentGloss': 'was'}, {'dep': 'case', 'governor': 6, 'governorGloss': 'Hawaii', 'dependent': 5, 'dependentGloss': 'in'}, {'dep': 'obl', 'governor': 4, 'governorGloss': 'born', 'dependent': 6, 'dependentGloss': 'Hawaii'}, {'dep': 'punct', 'governor': 4, 'governorGloss': 'born', 'dependent': 7, 'dependentGloss': '.'}], 'enhancedDependencies': [{'dep': 'ROOT', 'governor': 0, 'governorGloss': 'ROOT', 'dependent': 4, 'dependentGloss': 'born'}, {'dep': 'compound', 'governor': 2, 'governorGloss': 'Obama', 'dependent': 1, 'dependentGloss': 'Barack'}, {'dep': 'nsubj:pass', 'governor': 4, 'governorGloss': 'born', 'dependent': 2, 'dependentGloss': 'Obama'}, {'dep': 'aux:pass', 'governor': 4, 'governorGloss': 'born', 'dependent': 3, 'dependentGloss': 'was'}, {'dep': 'case', 'governor': 6, 'governorGloss': 'Hawaii', 'dependent': 5, 'dependentGloss': 'in'}, {'dep': 'obl:in', 'governor': 4, 'governorGloss': 'born', 'dependent': 6, 'dependentGloss': 'Hawaii'}, {'dep': 'punct', 'governor': 4, 'governorGloss': 'born', 'dependent': 7, 'dependentGloss': '.'}], 'enhancedPlusPlusDependencies': [{'dep': 'ROOT', 'governor': 0, 'governorGloss': 'ROOT', 'dependent': 4, 'dependentGloss': 'born'}, {'dep': 'compound', 'governor': 2, 'governorGloss': 'Obama', 'dependent': 1, 'dependentGloss': 'Barack'}, {'dep': 'nsubj:pass', 'governor': 4, 'governorGloss': 'born', 'dependent': 2, 'dependentGloss': 'Obama'}, {'dep': 'aux:pass', 'governor': 4, 'governorGloss': 'born', 'dependent': 3, 'dependentGloss': 'was'}, {'dep': 'case', 'governor': 6, 'governorGloss': 'Hawaii', 'dependent': 5, 'dependentGloss': 'in'}, {'dep': 'obl:in', 'governor': 4, 'governorGloss': 'born', 'dependent': 6, 'dependentGloss': 'Hawaii'}, {'dep': 'punct', 'governor': 4, 'governorGloss': 'born', 'dependent': 7, 'dependentGloss': '.'}], 'entitymentions': [{'docTokenBegin': 0, 'docTokenEnd': 2, 'tokenBegin': 0, 'tokenEnd': 2, 'text': 'Barack Obama', 'characterOffsetBegin': 0, 'characterOffsetEnd': 12, 'ner': 'PERSON', 'nerConfidences': {'PERSON': 0.9985745953945}}, {'docTokenBegin': 5, 'docTokenEnd': 6, 'tokenBegin': 5, 'tokenEnd': 6, 'text': 'Hawaii', 'characterOffsetBegin': 25, 'characterOffsetEnd': 31, 'ner': 'STATE_OR_PROVINCE', 'nerConfidences': {'LOCATION': 0.99953312937152}}], 'tokens': [{'index': 1, 'word': 'Barack', 'originalText': 'Barack', 'lemma': 'Barack', 'characterOffsetBegin': 0, 'characterOffsetEnd': 6, 'pos': 'NNP', 'ner': 'PERSON', 'speaker': 'PER0', 'before': '', 'after': ' '}, {'index': 2, 'word': 'Obama', 'originalText': 'Obama', 'lemma': 'Obama', 'characterOffsetBegin': 7, 'characterOffsetEnd': 12, 'pos': 'NNP', 'ner': 'PERSON', 'speaker': 'PER0', 'before': ' ', 'after': ' '}, {'index': 3, 'word': 'was', 'originalText': 'was', 'lemma': 'be', 'characterOffsetBegin': 13, 'characterOffsetEnd': 16, 'pos': 'VBD', 'ner': 'O', 'speaker': 'PER0', 'before': ' ', 'after': ' '}, {'index': 4, 'word': 'born', 'originalText': 'born', 'lemma': 'bear', 'characterOffsetBegin': 17, 'characterOffsetEnd': 21, 'pos': 'VBN', 'ner': 'O', 'speaker': 'PER0', 'before': ' ', 'after': ' '}, {'index': 5, 'word': 'in', 'originalText': 'in', 'lemma': 'in', 'characterOffsetBegin': 22, 'characterOffsetEnd': 24, 'pos': 'IN', 'ner': 'O', 'speaker': 'PER0', 'before': ' ', 'after': ' '}, {'index': 6, 'word': 'Hawaii', 'originalText': 'Hawaii', 'lemma': 'Hawaii', 'characterOffsetBegin': 25, 'characterOffsetEnd': 31, 'pos': 'NNP', 'ner': 'STATE_OR_PROVINCE', 'speaker': 'PER0', 'before': ' ', 'after': ''}, {'index': 7, 'word': '.', 'originalText': '.', 'lemma': '.', 'characterOffsetBegin': 31, 'characterOffsetEnd': 32, 'pos': '.', 'ner': 'O', 'speaker': 'PER0', 'before': '', 'after': ' '}]}, {'index': 1, 'basicDependencies': [{'dep': 'ROOT', 'governor': 0, 'governorGloss': 'ROOT', 'dependent': 2, 'dependentGloss': 'attended'}, {'dep': 'nsubj', 'governor': 2, 'governorGloss': 'attended', 'dependent': 1, 'dependentGloss': 'He'}, {'dep': 'obj', 'governor': 2, 'governorGloss': 'attended', 'dependent': 3, 'dependentGloss': 'school'}, {'dep': 'case', 'governor': 5, 'governorGloss': 'Jakarta', 'dependent': 4, 'dependentGloss': 'in'}, {'dep': 'obl', 'governor': 2, 'governorGloss': 'attended', 'dependent': 5, 'dependentGloss': 'Jakarta'}, {'dep': 'punct', 'governor': 2, 'governorGloss': 'attended', 'dependent': 6, 'dependentGloss': '.'}], 'enhancedDependencies': [{'dep': 'ROOT', 'governor': 0, 'governorGloss': 'ROOT', 'dependent': 2, 'dependentGloss': 'attended'}, {'dep': 'nsubj', 'governor': 2, 'governorGloss': 'attended', 'dependent': 1, 'dependentGloss': 'He'}, {'dep': 'obj', 'governor': 2, 'governorGloss': 'attended', 'dependent': 3, 'dependentGloss': 'school'}, {'dep': 'case', 'governor': 5, 'governorGloss': 'Jakarta', 'dependent': 4, 'dependentGloss': 'in'}, {'dep': 'obl:in', 'governor': 2, 'governorGloss': 'attended', 'dependent': 5, 'dependentGloss': 'Jakarta'}, {'dep': 'punct', 'governor': 2, 'governorGloss': 'attended', 'dependent': 6, 'dependentGloss': '.'}], 'enhancedPlusPlusDependencies': [{'dep': 'ROOT', 'governor': 0, 'governorGloss': 'ROOT', 'dependent': 2, 'dependentGloss': 'attended'}, {'dep': 'nsubj', 'governor': 2, 'governorGloss': 'attended', 'dependent': 1, 'dependentGloss': 'He'}, {'dep': 'obj', 'governor': 2, 'governorGloss': 'attended', 'dependent': 3, 'dependentGloss': 'school'}, {'dep': 'case', 'governor': 5, 'governorGloss': 'Jakarta', 'dependent': 4, 'dependentGloss': 'in'}, {'dep': 'obl:in', 'governor': 2, 'governorGloss': 'attended', 'dependent': 5, 'dependentGloss': 'Jakarta'}, {'dep': 'punct', 'governor': 2, 'governorGloss': 'attended', 'dependent': 6, 'dependentGloss': '.'}], 'entitymentions': [{'docTokenBegin': 11, 'docTokenEnd': 12, 'tokenBegin': 4, 'tokenEnd': 5, 'text': 'Jakarta', 'characterOffsetBegin': 55, 'characterOffsetEnd': 62, 'ner': 'CITY', 'nerConfidences': {'LOCATION': 0.99984873567149}}, {'docTokenBegin': 7, 'docTokenEnd': 8, 'tokenBegin': 0, 'tokenEnd': 1, 'text': 'He', 'characterOffsetBegin': 33, 'characterOffsetEnd': 35, 'ner': 'PERSON'}], 'tokens': [{'index': 1, 'word': 'He', 'originalText': 'He', 'lemma': 'he', 'characterOffsetBegin': 33, 'characterOffsetEnd': 35, 'pos': 'PRP', 'ner': 'O', 'speaker': 'PER0', 'before': ' ', 'after': ' '}, {'index': 2, 'word': 'attended', 'originalText': 'attended', 'lemma': 'attend', 'characterOffsetBegin': 36, 'characterOffsetEnd': 44, 'pos': 'VBD', 'ner': 'O', 'speaker': 'PER0', 'before': ' ', 'after': ' '}, {'index': 3, 'word': 'school', 'originalText': 'school', 'lemma': 'school', 'characterOffsetBegin': 45, 'characterOffsetEnd': 51, 'pos': 'NN', 'ner': 'O', 'speaker': 'PER0', 'before': ' ', 'after': ' '}, {'index': 4, 'word': 'in', 'originalText': 'in', 'lemma': 'in', 'characterOffsetBegin': 52, 'characterOffsetEnd': 54, 'pos': 'IN', 'ner': 'O', 'speaker': 'PER0', 'before': ' ', 'after': ' '}, {'index': 5, 'word': 'Jakarta', 'originalText': 'Jakarta', 'lemma': 'Jakarta', 'characterOffsetBegin': 55, 'characterOffsetEnd': 62, 'pos': 'NNP', 'ner': 'CITY', 'speaker': 'PER0', 'before': ' ', 'after': ''}, {'index': 6, 'word': '.', 'originalText': '.', 'lemma': '.', 'characterOffsetBegin': 62, 'characterOffsetEnd': 63, 'pos': '.', 'ner': 'O', 'speaker': 'PER0', 'before': '', 'after': ''}]}], 'corefs': {'4': [{'id': 0, 'text': 'Barack Obama', 'type': 'PROPER', 'number': 'SINGULAR', 'gender': 'MALE', 'animacy': 'ANIMATE', 'startIndex': 1, 'endIndex': 3, 'headIndex': 2, 'sentNum': 1, 'position': [1, 1], 'isRepresentativeMention': True}, {'id': 4, 'text': 'He', 'type': 'PRONOMINAL', 'number': 'SINGULAR', 'gender': 'MALE', 'animacy': 'ANIMATE', 'startIndex': 1, 'endIndex': 2, 'headIndex': 1, 'sentNum': 2, 'position': [2, 3], 'isRepresentativeMention': False}]}}\n"
     ]
    }
   ],
   "source": [
    "nlp = StanfordCoreNLP(r'C:\\Users\\aandi\\Documents\\Uni\\Final Year\\FYP Code\\stanford-corenlp-4.2.0')\n",
    "sentence = 'Barack Obama was born in Hawaii. He attended school in Jakarta.'\n",
    "props={'annotators': 'coref', 'pipelineLanguage': 'en', 'outputFormat': 'json'}\n",
    "\n",
    "annotation = json.loads(nlp.annotate(sentence, properties=props))\n",
    "print(annotation)\n",
    "\n",
    "nlp.close()\n"
   ],
   "metadata": {
    "collapsed": false,
    "pycharm": {
     "name": "#%%\n"
    }
   }
  }
 ],
 "metadata": {
  "kernelspec": {
   "display_name": "Python 3",
   "language": "python",
   "name": "python3"
  },
  "language_info": {
   "codemirror_mode": {
    "name": "ipython",
    "version": 2
   },
   "file_extension": ".py",
   "mimetype": "text/x-python",
   "name": "python",
   "nbconvert_exporter": "python",
   "pygments_lexer": "ipython2",
   "version": "2.7.6"
  }
 },
 "nbformat": 4,
 "nbformat_minor": 0
}