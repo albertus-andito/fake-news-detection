{
 "cells": [
  {
   "cell_type": "markdown",
   "source": [
    "Turns out, Textacy only works for simple sentences and strictly SVO formed sentences, i.e.\n",
    "\"He plays football\" works fine, but not"
   ],
   "metadata": {
    "collapsed": false
   }
  },
  {
   "cell_type": "code",
   "execution_count": 1,
   "metadata": {
    "collapsed": true
   },
   "outputs": [],
   "source": [
    "import textacy"
   ]
  },
  {
   "cell_type": "code",
   "execution_count": 21,
   "outputs": [],
   "source": [
    "text = (\"Dr. Anthony Fauci, whose “expert” advice to President Trump has resulted in \"\n",
    "        \"the complete shutdown of the greatest economic engine in world history, \"\n",
    "        \"has known since 2005 that chloroquine is an effective inhibitor of \"\n",
    "        \"coronaviruses.\")\n",
    "# text = \"He plays football.\"\n",
    "# text = (\"Dr. Anthony Fauci knows that chloroquine is an effective \"\n",
    "       # \"inhibitor of coronaviruses.\")\n",
    "# text = \"He knows he has to eat now.\"\n",
    "# text = \"Bill Gates said his vaccine will cure Covid-19\"\n",
    "# text = \"He plays football and she cooks dinner\""
   ],
   "metadata": {
    "collapsed": false,
    "pycharm": {
     "name": "#%%\n"
    }
   }
  },
  {
   "cell_type": "code",
   "execution_count": 22,
   "outputs": [
    {
     "data": {
      "text/plain": "'Doc(40 tokens: \"Dr. Anthony Fauci, whose “expert” advice to Pre...\")'"
     },
     "execution_count": 22,
     "metadata": {},
     "output_type": "execute_result"
    }
   ],
   "source": [
    "doc = textacy.make_spacy_doc(text, lang=\"en\")\n",
    "doc._.preview"
   ],
   "metadata": {
    "collapsed": false,
    "pycharm": {
     "name": "#%%\n"
    }
   }
  },
  {
   "cell_type": "code",
   "execution_count": 23,
   "outputs": [
    {
     "name": "stdout",
     "output_type": "stream",
     "text": [
      "[]\n"
     ]
    }
   ],
   "source": [
    "svo = list(textacy.extract.subject_verb_object_triples(doc))\n",
    "print(svo)\n",
    "\n",
    "\n",
    "\n"
   ],
   "metadata": {
    "collapsed": false,
    "pycharm": {
     "name": "#%%\n"
    }
   }
  }
 ],
 "metadata": {
  "kernelspec": {
   "display_name": "Python 3",
   "language": "python",
   "name": "python3"
  },
  "language_info": {
   "codemirror_mode": {
    "name": "ipython",
    "version": 2
   },
   "file_extension": ".py",
   "mimetype": "text/x-python",
   "name": "python",
   "nbconvert_exporter": "python",
   "pygments_lexer": "ipython2",
   "version": "2.7.6"
  }
 },
 "nbformat": 4,
 "nbformat_minor": 0
}